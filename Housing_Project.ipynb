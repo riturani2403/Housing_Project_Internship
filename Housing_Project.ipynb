{
 "cells": [
  {
   "cell_type": "markdown",
   "metadata": {},
   "source": [
    "# HOUSING: PRICE PREDICTION"
   ]
  },
  {
   "cell_type": "markdown",
   "metadata": {},
   "source": [
    "# Problem Statement:\n",
    "\n",
    "Houses are one of the necessary need of each and every person around the globe and therefore housing and real estate \n",
    "market is one of the markets which is one of the major contributors in the world’s economy. It is a very large market \n",
    "and there are various companies working in the domain. Data science comes as a very important tool to solve problems \n",
    "in the domain to help the companies increase their overall revenue, profits, improving their marketing strategies and \n",
    "focusing on changing trends in house sales and purchases. Predictive modelling, Market mix modelling, \n",
    "recommendation systems are some of the machine learning techniques used for achieving the business goals for housing \n",
    "companies. Our problem is related to one such housing company.\n",
    "A US-based housing company named Surprise Housing has decided to enter the Australian market. The company uses \n",
    "data analytics to purchase houses at a price below their actual values and flip them at a higher price. For the same \n",
    "purpose, the company has collected a data set from the sale of houses in Australia. The data is provided in the CSV file.\n",
    "\n",
    "The company is looking at prospective properties to buy houses to enter the market. We are required to build a model \n",
    "using Machine Learning in order to predict the actual value of the prospective properties and decide whether to invest \n",
    "in them or not. For this company wants to know:\n",
    "\n",
    "#### In this model we will predict:\n",
    "• Which variables are important to predict the price of variable?\n",
    "\n",
    "• How do these variables describe the price of the house?"
   ]
  },
  {
   "cell_type": "markdown",
   "metadata": {},
   "source": [
    "# Business Goal:\n",
    "We are required to model the price of houses with the available independent variables. This model will then be used \n",
    "by the management to understand how exactly the prices vary with the variables. They can accordingly manipulate the \n",
    "strategy of the firm and concentrate on areas that will yield high returns. Further, the model will be a good way for the \n",
    "management to understand the pricing dynamics of a new market."
   ]
  },
  {
   "cell_type": "markdown",
   "metadata": {},
   "source": [
    "### Technical Requirements:\n",
    "• Data contains 1460 entries each having 81 variables.\n",
    "\n",
    "• Data contains Null values. We need to treat them.\n",
    "\n",
    "• We perform Extensive EDA to gain relationships between important variable and price.\n",
    "\n",
    "• Data contains numerical as well as categorical variable.\n",
    "\n",
    "• We build Machine Learning models, apply regularization and determine the optimal values of Hyper Parameters. \n",
    "\n",
    "• We will find important features which affect the price positively or negatively.\n",
    "\n",
    "• Two datasets are being provided to (test.csv, train.csv). We will train our model on train.csv dataset and predict on test.csv "
   ]
  },
  {
   "cell_type": "markdown",
   "metadata": {},
   "source": [
    "We build a machine learning model to predict the Sale price of Houses.\n",
    "\n",
    "# WORK: \n",
    "1) IMPORTING LIBRARIES\n",
    "\n",
    "2) LOADING TRAIN DATASET & DESCRIPTION\n",
    "\n",
    "3) DATA PREPROCESSING OF TRAIN DATA\n",
    "\n",
    "4) EXPLORATORY DATA ANALYSIS\n",
    "\n",
    "5) SPLITING DATA AND APPLYING train_test_split\n",
    "\n",
    "6) PREDICTING MODEL\n",
    "\n",
    "7) GRID SEARCH CV\n",
    "\n",
    "9) TUNNING WITH BEST PARAMETERS\n",
    "\n",
    "10) SAVING OUR MODEL\n",
    "\n",
    "11) LOADING TEST DATASET\n",
    "\n",
    "12) DATA PREPROCESSING & CLEANING OF TEST DATASET\n",
    "\n",
    "13) LOADING THE TEST DATA ON TRAINED DATA\n",
    "\n",
    "14) RESULTS & CONCLUSION"
   ]
  },
  {
   "cell_type": "markdown",
   "metadata": {},
   "source": [
    "# TARGET VARIABLE:\n",
    "In this context, the use regression models to predict the \"SalePrice\" of Houses.\n",
    "\n",
    "\"SalePrice\" is oure target varaible."
   ]
  },
  {
   "cell_type": "code",
   "execution_count": 1,
   "metadata": {},
   "outputs": [],
   "source": [
    "# importing libraries\n",
    "\n",
    "import numpy as np\n",
    "import pandas as pd \n",
    "import seaborn as sns\n",
    "import matplotlib.pyplot as plt\n",
    "\n",
    "import warnings\n",
    "warnings.filterwarnings(\"ignore\")"
   ]
  },
  {
   "cell_type": "code",
   "execution_count": 2,
   "metadata": {},
   "outputs": [],
   "source": [
    "## load the data into a pandas dataframe using the read_csv function.\n",
    "\n",
    "df = pd.read_csv(\"train HousigProject.csv\")"
   ]
  },
  {
   "cell_type": "code",
   "execution_count": 3,
   "metadata": {},
   "outputs": [
    {
     "data": {
      "text/plain": [
       "(1168, 81)"
      ]
     },
     "execution_count": 3,
     "metadata": {},
     "output_type": "execute_result"
    }
   ],
   "source": [
    "df.shape"
   ]
  },
  {
   "cell_type": "code",
   "execution_count": 4,
   "metadata": {},
   "outputs": [
    {
     "data": {
      "text/html": [
       "<div>\n",
       "<style scoped>\n",
       "    .dataframe tbody tr th:only-of-type {\n",
       "        vertical-align: middle;\n",
       "    }\n",
       "\n",
       "    .dataframe tbody tr th {\n",
       "        vertical-align: top;\n",
       "    }\n",
       "\n",
       "    .dataframe thead th {\n",
       "        text-align: right;\n",
       "    }\n",
       "</style>\n",
       "<table border=\"1\" class=\"dataframe\">\n",
       "  <thead>\n",
       "    <tr style=\"text-align: right;\">\n",
       "      <th></th>\n",
       "      <th>Id</th>\n",
       "      <th>MSSubClass</th>\n",
       "      <th>MSZoning</th>\n",
       "      <th>LotFrontage</th>\n",
       "      <th>LotArea</th>\n",
       "      <th>Street</th>\n",
       "      <th>Alley</th>\n",
       "      <th>LotShape</th>\n",
       "      <th>LandContour</th>\n",
       "      <th>Utilities</th>\n",
       "      <th>...</th>\n",
       "      <th>PoolArea</th>\n",
       "      <th>PoolQC</th>\n",
       "      <th>Fence</th>\n",
       "      <th>MiscFeature</th>\n",
       "      <th>MiscVal</th>\n",
       "      <th>MoSold</th>\n",
       "      <th>YrSold</th>\n",
       "      <th>SaleType</th>\n",
       "      <th>SaleCondition</th>\n",
       "      <th>SalePrice</th>\n",
       "    </tr>\n",
       "  </thead>\n",
       "  <tbody>\n",
       "    <tr>\n",
       "      <th>0</th>\n",
       "      <td>127</td>\n",
       "      <td>120</td>\n",
       "      <td>RL</td>\n",
       "      <td>NaN</td>\n",
       "      <td>4928</td>\n",
       "      <td>Pave</td>\n",
       "      <td>NaN</td>\n",
       "      <td>IR1</td>\n",
       "      <td>Lvl</td>\n",
       "      <td>AllPub</td>\n",
       "      <td>...</td>\n",
       "      <td>0</td>\n",
       "      <td>NaN</td>\n",
       "      <td>NaN</td>\n",
       "      <td>NaN</td>\n",
       "      <td>0</td>\n",
       "      <td>2</td>\n",
       "      <td>2007</td>\n",
       "      <td>WD</td>\n",
       "      <td>Normal</td>\n",
       "      <td>128000</td>\n",
       "    </tr>\n",
       "    <tr>\n",
       "      <th>1</th>\n",
       "      <td>889</td>\n",
       "      <td>20</td>\n",
       "      <td>RL</td>\n",
       "      <td>95.0</td>\n",
       "      <td>15865</td>\n",
       "      <td>Pave</td>\n",
       "      <td>NaN</td>\n",
       "      <td>IR1</td>\n",
       "      <td>Lvl</td>\n",
       "      <td>AllPub</td>\n",
       "      <td>...</td>\n",
       "      <td>0</td>\n",
       "      <td>NaN</td>\n",
       "      <td>NaN</td>\n",
       "      <td>NaN</td>\n",
       "      <td>0</td>\n",
       "      <td>10</td>\n",
       "      <td>2007</td>\n",
       "      <td>WD</td>\n",
       "      <td>Normal</td>\n",
       "      <td>268000</td>\n",
       "    </tr>\n",
       "    <tr>\n",
       "      <th>2</th>\n",
       "      <td>793</td>\n",
       "      <td>60</td>\n",
       "      <td>RL</td>\n",
       "      <td>92.0</td>\n",
       "      <td>9920</td>\n",
       "      <td>Pave</td>\n",
       "      <td>NaN</td>\n",
       "      <td>IR1</td>\n",
       "      <td>Lvl</td>\n",
       "      <td>AllPub</td>\n",
       "      <td>...</td>\n",
       "      <td>0</td>\n",
       "      <td>NaN</td>\n",
       "      <td>NaN</td>\n",
       "      <td>NaN</td>\n",
       "      <td>0</td>\n",
       "      <td>6</td>\n",
       "      <td>2007</td>\n",
       "      <td>WD</td>\n",
       "      <td>Normal</td>\n",
       "      <td>269790</td>\n",
       "    </tr>\n",
       "    <tr>\n",
       "      <th>3</th>\n",
       "      <td>110</td>\n",
       "      <td>20</td>\n",
       "      <td>RL</td>\n",
       "      <td>105.0</td>\n",
       "      <td>11751</td>\n",
       "      <td>Pave</td>\n",
       "      <td>NaN</td>\n",
       "      <td>IR1</td>\n",
       "      <td>Lvl</td>\n",
       "      <td>AllPub</td>\n",
       "      <td>...</td>\n",
       "      <td>0</td>\n",
       "      <td>NaN</td>\n",
       "      <td>MnPrv</td>\n",
       "      <td>NaN</td>\n",
       "      <td>0</td>\n",
       "      <td>1</td>\n",
       "      <td>2010</td>\n",
       "      <td>COD</td>\n",
       "      <td>Normal</td>\n",
       "      <td>190000</td>\n",
       "    </tr>\n",
       "    <tr>\n",
       "      <th>4</th>\n",
       "      <td>422</td>\n",
       "      <td>20</td>\n",
       "      <td>RL</td>\n",
       "      <td>NaN</td>\n",
       "      <td>16635</td>\n",
       "      <td>Pave</td>\n",
       "      <td>NaN</td>\n",
       "      <td>IR1</td>\n",
       "      <td>Lvl</td>\n",
       "      <td>AllPub</td>\n",
       "      <td>...</td>\n",
       "      <td>0</td>\n",
       "      <td>NaN</td>\n",
       "      <td>NaN</td>\n",
       "      <td>NaN</td>\n",
       "      <td>0</td>\n",
       "      <td>6</td>\n",
       "      <td>2009</td>\n",
       "      <td>WD</td>\n",
       "      <td>Normal</td>\n",
       "      <td>215000</td>\n",
       "    </tr>\n",
       "    <tr>\n",
       "      <th>5</th>\n",
       "      <td>1197</td>\n",
       "      <td>60</td>\n",
       "      <td>RL</td>\n",
       "      <td>58.0</td>\n",
       "      <td>14054</td>\n",
       "      <td>Pave</td>\n",
       "      <td>NaN</td>\n",
       "      <td>IR1</td>\n",
       "      <td>Lvl</td>\n",
       "      <td>AllPub</td>\n",
       "      <td>...</td>\n",
       "      <td>0</td>\n",
       "      <td>NaN</td>\n",
       "      <td>NaN</td>\n",
       "      <td>NaN</td>\n",
       "      <td>0</td>\n",
       "      <td>11</td>\n",
       "      <td>2006</td>\n",
       "      <td>New</td>\n",
       "      <td>Partial</td>\n",
       "      <td>219210</td>\n",
       "    </tr>\n",
       "    <tr>\n",
       "      <th>6</th>\n",
       "      <td>561</td>\n",
       "      <td>20</td>\n",
       "      <td>RL</td>\n",
       "      <td>NaN</td>\n",
       "      <td>11341</td>\n",
       "      <td>Pave</td>\n",
       "      <td>NaN</td>\n",
       "      <td>IR1</td>\n",
       "      <td>Lvl</td>\n",
       "      <td>AllPub</td>\n",
       "      <td>...</td>\n",
       "      <td>0</td>\n",
       "      <td>NaN</td>\n",
       "      <td>NaN</td>\n",
       "      <td>NaN</td>\n",
       "      <td>0</td>\n",
       "      <td>5</td>\n",
       "      <td>2010</td>\n",
       "      <td>WD</td>\n",
       "      <td>Normal</td>\n",
       "      <td>121500</td>\n",
       "    </tr>\n",
       "    <tr>\n",
       "      <th>7</th>\n",
       "      <td>1041</td>\n",
       "      <td>20</td>\n",
       "      <td>RL</td>\n",
       "      <td>88.0</td>\n",
       "      <td>13125</td>\n",
       "      <td>Pave</td>\n",
       "      <td>NaN</td>\n",
       "      <td>Reg</td>\n",
       "      <td>Lvl</td>\n",
       "      <td>AllPub</td>\n",
       "      <td>...</td>\n",
       "      <td>0</td>\n",
       "      <td>NaN</td>\n",
       "      <td>GdPrv</td>\n",
       "      <td>NaN</td>\n",
       "      <td>0</td>\n",
       "      <td>1</td>\n",
       "      <td>2006</td>\n",
       "      <td>WD</td>\n",
       "      <td>Normal</td>\n",
       "      <td>155000</td>\n",
       "    </tr>\n",
       "    <tr>\n",
       "      <th>8</th>\n",
       "      <td>503</td>\n",
       "      <td>20</td>\n",
       "      <td>RL</td>\n",
       "      <td>70.0</td>\n",
       "      <td>9170</td>\n",
       "      <td>Pave</td>\n",
       "      <td>NaN</td>\n",
       "      <td>Reg</td>\n",
       "      <td>Lvl</td>\n",
       "      <td>AllPub</td>\n",
       "      <td>...</td>\n",
       "      <td>0</td>\n",
       "      <td>NaN</td>\n",
       "      <td>GdPrv</td>\n",
       "      <td>Shed</td>\n",
       "      <td>400</td>\n",
       "      <td>4</td>\n",
       "      <td>2007</td>\n",
       "      <td>WD</td>\n",
       "      <td>Normal</td>\n",
       "      <td>140000</td>\n",
       "    </tr>\n",
       "    <tr>\n",
       "      <th>9</th>\n",
       "      <td>576</td>\n",
       "      <td>50</td>\n",
       "      <td>RL</td>\n",
       "      <td>80.0</td>\n",
       "      <td>8480</td>\n",
       "      <td>Pave</td>\n",
       "      <td>NaN</td>\n",
       "      <td>Reg</td>\n",
       "      <td>Lvl</td>\n",
       "      <td>AllPub</td>\n",
       "      <td>...</td>\n",
       "      <td>0</td>\n",
       "      <td>NaN</td>\n",
       "      <td>NaN</td>\n",
       "      <td>NaN</td>\n",
       "      <td>0</td>\n",
       "      <td>10</td>\n",
       "      <td>2008</td>\n",
       "      <td>COD</td>\n",
       "      <td>Abnorml</td>\n",
       "      <td>118500</td>\n",
       "    </tr>\n",
       "  </tbody>\n",
       "</table>\n",
       "<p>10 rows × 81 columns</p>\n",
       "</div>"
      ],
      "text/plain": [
       "     Id  MSSubClass MSZoning  LotFrontage  LotArea Street Alley LotShape  \\\n",
       "0   127         120       RL          NaN     4928   Pave   NaN      IR1   \n",
       "1   889          20       RL         95.0    15865   Pave   NaN      IR1   \n",
       "2   793          60       RL         92.0     9920   Pave   NaN      IR1   \n",
       "3   110          20       RL        105.0    11751   Pave   NaN      IR1   \n",
       "4   422          20       RL          NaN    16635   Pave   NaN      IR1   \n",
       "5  1197          60       RL         58.0    14054   Pave   NaN      IR1   \n",
       "6   561          20       RL          NaN    11341   Pave   NaN      IR1   \n",
       "7  1041          20       RL         88.0    13125   Pave   NaN      Reg   \n",
       "8   503          20       RL         70.0     9170   Pave   NaN      Reg   \n",
       "9   576          50       RL         80.0     8480   Pave   NaN      Reg   \n",
       "\n",
       "  LandContour Utilities  ... PoolArea PoolQC  Fence MiscFeature MiscVal  \\\n",
       "0         Lvl    AllPub  ...        0    NaN    NaN         NaN       0   \n",
       "1         Lvl    AllPub  ...        0    NaN    NaN         NaN       0   \n",
       "2         Lvl    AllPub  ...        0    NaN    NaN         NaN       0   \n",
       "3         Lvl    AllPub  ...        0    NaN  MnPrv         NaN       0   \n",
       "4         Lvl    AllPub  ...        0    NaN    NaN         NaN       0   \n",
       "5         Lvl    AllPub  ...        0    NaN    NaN         NaN       0   \n",
       "6         Lvl    AllPub  ...        0    NaN    NaN         NaN       0   \n",
       "7         Lvl    AllPub  ...        0    NaN  GdPrv         NaN       0   \n",
       "8         Lvl    AllPub  ...        0    NaN  GdPrv        Shed     400   \n",
       "9         Lvl    AllPub  ...        0    NaN    NaN         NaN       0   \n",
       "\n",
       "  MoSold YrSold  SaleType  SaleCondition  SalePrice  \n",
       "0      2   2007        WD         Normal     128000  \n",
       "1     10   2007        WD         Normal     268000  \n",
       "2      6   2007        WD         Normal     269790  \n",
       "3      1   2010       COD         Normal     190000  \n",
       "4      6   2009        WD         Normal     215000  \n",
       "5     11   2006       New        Partial     219210  \n",
       "6      5   2010        WD         Normal     121500  \n",
       "7      1   2006        WD         Normal     155000  \n",
       "8      4   2007        WD         Normal     140000  \n",
       "9     10   2008       COD        Abnorml     118500  \n",
       "\n",
       "[10 rows x 81 columns]"
      ]
     },
     "execution_count": 4,
     "metadata": {},
     "output_type": "execute_result"
    }
   ],
   "source": [
    "# looking top 10 rows\n",
    "\n",
    "df.head(10)"
   ]
  },
  {
   "cell_type": "code",
   "execution_count": 5,
   "metadata": {},
   "outputs": [
    {
     "data": {
      "text/html": [
       "<div>\n",
       "<style scoped>\n",
       "    .dataframe tbody tr th:only-of-type {\n",
       "        vertical-align: middle;\n",
       "    }\n",
       "\n",
       "    .dataframe tbody tr th {\n",
       "        vertical-align: top;\n",
       "    }\n",
       "\n",
       "    .dataframe thead th {\n",
       "        text-align: right;\n",
       "    }\n",
       "</style>\n",
       "<table border=\"1\" class=\"dataframe\">\n",
       "  <thead>\n",
       "    <tr style=\"text-align: right;\">\n",
       "      <th></th>\n",
       "      <th>Id</th>\n",
       "      <th>MSSubClass</th>\n",
       "      <th>MSZoning</th>\n",
       "      <th>LotFrontage</th>\n",
       "      <th>LotArea</th>\n",
       "      <th>Street</th>\n",
       "      <th>Alley</th>\n",
       "      <th>LotShape</th>\n",
       "      <th>LandContour</th>\n",
       "      <th>Utilities</th>\n",
       "      <th>...</th>\n",
       "      <th>PoolArea</th>\n",
       "      <th>PoolQC</th>\n",
       "      <th>Fence</th>\n",
       "      <th>MiscFeature</th>\n",
       "      <th>MiscVal</th>\n",
       "      <th>MoSold</th>\n",
       "      <th>YrSold</th>\n",
       "      <th>SaleType</th>\n",
       "      <th>SaleCondition</th>\n",
       "      <th>SalePrice</th>\n",
       "    </tr>\n",
       "  </thead>\n",
       "  <tbody>\n",
       "    <tr>\n",
       "      <th>1158</th>\n",
       "      <td>673</td>\n",
       "      <td>20</td>\n",
       "      <td>RL</td>\n",
       "      <td>NaN</td>\n",
       "      <td>11250</td>\n",
       "      <td>Pave</td>\n",
       "      <td>NaN</td>\n",
       "      <td>IR1</td>\n",
       "      <td>Lvl</td>\n",
       "      <td>AllPub</td>\n",
       "      <td>...</td>\n",
       "      <td>0</td>\n",
       "      <td>NaN</td>\n",
       "      <td>NaN</td>\n",
       "      <td>NaN</td>\n",
       "      <td>0</td>\n",
       "      <td>6</td>\n",
       "      <td>2006</td>\n",
       "      <td>WD</td>\n",
       "      <td>Normal</td>\n",
       "      <td>165000</td>\n",
       "    </tr>\n",
       "    <tr>\n",
       "      <th>1159</th>\n",
       "      <td>943</td>\n",
       "      <td>90</td>\n",
       "      <td>RL</td>\n",
       "      <td>42.0</td>\n",
       "      <td>7711</td>\n",
       "      <td>Pave</td>\n",
       "      <td>NaN</td>\n",
       "      <td>IR1</td>\n",
       "      <td>Lvl</td>\n",
       "      <td>AllPub</td>\n",
       "      <td>...</td>\n",
       "      <td>0</td>\n",
       "      <td>NaN</td>\n",
       "      <td>NaN</td>\n",
       "      <td>NaN</td>\n",
       "      <td>0</td>\n",
       "      <td>8</td>\n",
       "      <td>2007</td>\n",
       "      <td>Oth</td>\n",
       "      <td>Abnorml</td>\n",
       "      <td>150000</td>\n",
       "    </tr>\n",
       "    <tr>\n",
       "      <th>1160</th>\n",
       "      <td>551</td>\n",
       "      <td>120</td>\n",
       "      <td>RL</td>\n",
       "      <td>53.0</td>\n",
       "      <td>4043</td>\n",
       "      <td>Pave</td>\n",
       "      <td>NaN</td>\n",
       "      <td>Reg</td>\n",
       "      <td>Lvl</td>\n",
       "      <td>AllPub</td>\n",
       "      <td>...</td>\n",
       "      <td>0</td>\n",
       "      <td>NaN</td>\n",
       "      <td>NaN</td>\n",
       "      <td>NaN</td>\n",
       "      <td>0</td>\n",
       "      <td>10</td>\n",
       "      <td>2008</td>\n",
       "      <td>COD</td>\n",
       "      <td>Abnorml</td>\n",
       "      <td>140000</td>\n",
       "    </tr>\n",
       "    <tr>\n",
       "      <th>1161</th>\n",
       "      <td>1301</td>\n",
       "      <td>60</td>\n",
       "      <td>RL</td>\n",
       "      <td>NaN</td>\n",
       "      <td>10762</td>\n",
       "      <td>Pave</td>\n",
       "      <td>NaN</td>\n",
       "      <td>IR1</td>\n",
       "      <td>Lvl</td>\n",
       "      <td>AllPub</td>\n",
       "      <td>...</td>\n",
       "      <td>0</td>\n",
       "      <td>NaN</td>\n",
       "      <td>NaN</td>\n",
       "      <td>NaN</td>\n",
       "      <td>0</td>\n",
       "      <td>5</td>\n",
       "      <td>2009</td>\n",
       "      <td>WD</td>\n",
       "      <td>Normal</td>\n",
       "      <td>225000</td>\n",
       "    </tr>\n",
       "    <tr>\n",
       "      <th>1162</th>\n",
       "      <td>1381</td>\n",
       "      <td>30</td>\n",
       "      <td>RL</td>\n",
       "      <td>45.0</td>\n",
       "      <td>8212</td>\n",
       "      <td>Pave</td>\n",
       "      <td>Grvl</td>\n",
       "      <td>Reg</td>\n",
       "      <td>Lvl</td>\n",
       "      <td>AllPub</td>\n",
       "      <td>...</td>\n",
       "      <td>0</td>\n",
       "      <td>NaN</td>\n",
       "      <td>NaN</td>\n",
       "      <td>NaN</td>\n",
       "      <td>0</td>\n",
       "      <td>6</td>\n",
       "      <td>2010</td>\n",
       "      <td>WD</td>\n",
       "      <td>Normal</td>\n",
       "      <td>58500</td>\n",
       "    </tr>\n",
       "    <tr>\n",
       "      <th>1163</th>\n",
       "      <td>289</td>\n",
       "      <td>20</td>\n",
       "      <td>RL</td>\n",
       "      <td>NaN</td>\n",
       "      <td>9819</td>\n",
       "      <td>Pave</td>\n",
       "      <td>NaN</td>\n",
       "      <td>IR1</td>\n",
       "      <td>Lvl</td>\n",
       "      <td>AllPub</td>\n",
       "      <td>...</td>\n",
       "      <td>0</td>\n",
       "      <td>NaN</td>\n",
       "      <td>MnPrv</td>\n",
       "      <td>NaN</td>\n",
       "      <td>0</td>\n",
       "      <td>2</td>\n",
       "      <td>2010</td>\n",
       "      <td>WD</td>\n",
       "      <td>Normal</td>\n",
       "      <td>122000</td>\n",
       "    </tr>\n",
       "    <tr>\n",
       "      <th>1164</th>\n",
       "      <td>554</td>\n",
       "      <td>20</td>\n",
       "      <td>RL</td>\n",
       "      <td>67.0</td>\n",
       "      <td>8777</td>\n",
       "      <td>Pave</td>\n",
       "      <td>NaN</td>\n",
       "      <td>Reg</td>\n",
       "      <td>Lvl</td>\n",
       "      <td>AllPub</td>\n",
       "      <td>...</td>\n",
       "      <td>0</td>\n",
       "      <td>NaN</td>\n",
       "      <td>MnPrv</td>\n",
       "      <td>NaN</td>\n",
       "      <td>0</td>\n",
       "      <td>5</td>\n",
       "      <td>2009</td>\n",
       "      <td>WD</td>\n",
       "      <td>Normal</td>\n",
       "      <td>108000</td>\n",
       "    </tr>\n",
       "    <tr>\n",
       "      <th>1165</th>\n",
       "      <td>196</td>\n",
       "      <td>160</td>\n",
       "      <td>RL</td>\n",
       "      <td>24.0</td>\n",
       "      <td>2280</td>\n",
       "      <td>Pave</td>\n",
       "      <td>NaN</td>\n",
       "      <td>Reg</td>\n",
       "      <td>Lvl</td>\n",
       "      <td>AllPub</td>\n",
       "      <td>...</td>\n",
       "      <td>0</td>\n",
       "      <td>NaN</td>\n",
       "      <td>NaN</td>\n",
       "      <td>NaN</td>\n",
       "      <td>0</td>\n",
       "      <td>7</td>\n",
       "      <td>2009</td>\n",
       "      <td>WD</td>\n",
       "      <td>Normal</td>\n",
       "      <td>148500</td>\n",
       "    </tr>\n",
       "    <tr>\n",
       "      <th>1166</th>\n",
       "      <td>31</td>\n",
       "      <td>70</td>\n",
       "      <td>C (all)</td>\n",
       "      <td>50.0</td>\n",
       "      <td>8500</td>\n",
       "      <td>Pave</td>\n",
       "      <td>Pave</td>\n",
       "      <td>Reg</td>\n",
       "      <td>Lvl</td>\n",
       "      <td>AllPub</td>\n",
       "      <td>...</td>\n",
       "      <td>0</td>\n",
       "      <td>NaN</td>\n",
       "      <td>MnPrv</td>\n",
       "      <td>NaN</td>\n",
       "      <td>0</td>\n",
       "      <td>7</td>\n",
       "      <td>2008</td>\n",
       "      <td>WD</td>\n",
       "      <td>Normal</td>\n",
       "      <td>40000</td>\n",
       "    </tr>\n",
       "    <tr>\n",
       "      <th>1167</th>\n",
       "      <td>617</td>\n",
       "      <td>60</td>\n",
       "      <td>RL</td>\n",
       "      <td>NaN</td>\n",
       "      <td>7861</td>\n",
       "      <td>Pave</td>\n",
       "      <td>NaN</td>\n",
       "      <td>IR1</td>\n",
       "      <td>Lvl</td>\n",
       "      <td>AllPub</td>\n",
       "      <td>...</td>\n",
       "      <td>0</td>\n",
       "      <td>NaN</td>\n",
       "      <td>NaN</td>\n",
       "      <td>NaN</td>\n",
       "      <td>0</td>\n",
       "      <td>6</td>\n",
       "      <td>2006</td>\n",
       "      <td>WD</td>\n",
       "      <td>Normal</td>\n",
       "      <td>183200</td>\n",
       "    </tr>\n",
       "  </tbody>\n",
       "</table>\n",
       "<p>10 rows × 81 columns</p>\n",
       "</div>"
      ],
      "text/plain": [
       "        Id  MSSubClass MSZoning  LotFrontage  LotArea Street Alley LotShape  \\\n",
       "1158   673          20       RL          NaN    11250   Pave   NaN      IR1   \n",
       "1159   943          90       RL         42.0     7711   Pave   NaN      IR1   \n",
       "1160   551         120       RL         53.0     4043   Pave   NaN      Reg   \n",
       "1161  1301          60       RL          NaN    10762   Pave   NaN      IR1   \n",
       "1162  1381          30       RL         45.0     8212   Pave  Grvl      Reg   \n",
       "1163   289          20       RL          NaN     9819   Pave   NaN      IR1   \n",
       "1164   554          20       RL         67.0     8777   Pave   NaN      Reg   \n",
       "1165   196         160       RL         24.0     2280   Pave   NaN      Reg   \n",
       "1166    31          70  C (all)         50.0     8500   Pave  Pave      Reg   \n",
       "1167   617          60       RL          NaN     7861   Pave   NaN      IR1   \n",
       "\n",
       "     LandContour Utilities  ... PoolArea PoolQC  Fence MiscFeature MiscVal  \\\n",
       "1158         Lvl    AllPub  ...        0    NaN    NaN         NaN       0   \n",
       "1159         Lvl    AllPub  ...        0    NaN    NaN         NaN       0   \n",
       "1160         Lvl    AllPub  ...        0    NaN    NaN         NaN       0   \n",
       "1161         Lvl    AllPub  ...        0    NaN    NaN         NaN       0   \n",
       "1162         Lvl    AllPub  ...        0    NaN    NaN         NaN       0   \n",
       "1163         Lvl    AllPub  ...        0    NaN  MnPrv         NaN       0   \n",
       "1164         Lvl    AllPub  ...        0    NaN  MnPrv         NaN       0   \n",
       "1165         Lvl    AllPub  ...        0    NaN    NaN         NaN       0   \n",
       "1166         Lvl    AllPub  ...        0    NaN  MnPrv         NaN       0   \n",
       "1167         Lvl    AllPub  ...        0    NaN    NaN         NaN       0   \n",
       "\n",
       "     MoSold YrSold  SaleType  SaleCondition  SalePrice  \n",
       "1158      6   2006        WD         Normal     165000  \n",
       "1159      8   2007       Oth        Abnorml     150000  \n",
       "1160     10   2008       COD        Abnorml     140000  \n",
       "1161      5   2009        WD         Normal     225000  \n",
       "1162      6   2010        WD         Normal      58500  \n",
       "1163      2   2010        WD         Normal     122000  \n",
       "1164      5   2009        WD         Normal     108000  \n",
       "1165      7   2009        WD         Normal     148500  \n",
       "1166      7   2008        WD         Normal      40000  \n",
       "1167      6   2006        WD         Normal     183200  \n",
       "\n",
       "[10 rows x 81 columns]"
      ]
     },
     "execution_count": 5,
     "metadata": {},
     "output_type": "execute_result"
    }
   ],
   "source": [
    "#l looking last 10 rows\n",
    "\n",
    "df.tail(10)"
   ]
  },
  {
   "cell_type": "code",
   "execution_count": 6,
   "metadata": {},
   "outputs": [
    {
     "data": {
      "text/plain": [
       "Index(['Id', 'MSSubClass', 'MSZoning', 'LotFrontage', 'LotArea', 'Street',\n",
       "       'Alley', 'LotShape', 'LandContour', 'Utilities', 'LotConfig',\n",
       "       'LandSlope', 'Neighborhood', 'Condition1', 'Condition2', 'BldgType',\n",
       "       'HouseStyle', 'OverallQual', 'OverallCond', 'YearBuilt', 'YearRemodAdd',\n",
       "       'RoofStyle', 'RoofMatl', 'Exterior1st', 'Exterior2nd', 'MasVnrType',\n",
       "       'MasVnrArea', 'ExterQual', 'ExterCond', 'Foundation', 'BsmtQual',\n",
       "       'BsmtCond', 'BsmtExposure', 'BsmtFinType1', 'BsmtFinSF1',\n",
       "       'BsmtFinType2', 'BsmtFinSF2', 'BsmtUnfSF', 'TotalBsmtSF', 'Heating',\n",
       "       'HeatingQC', 'CentralAir', 'Electrical', '1stFlrSF', '2ndFlrSF',\n",
       "       'LowQualFinSF', 'GrLivArea', 'BsmtFullBath', 'BsmtHalfBath', 'FullBath',\n",
       "       'HalfBath', 'BedroomAbvGr', 'KitchenAbvGr', 'KitchenQual',\n",
       "       'TotRmsAbvGrd', 'Functional', 'Fireplaces', 'FireplaceQu', 'GarageType',\n",
       "       'GarageYrBlt', 'GarageFinish', 'GarageCars', 'GarageArea', 'GarageQual',\n",
       "       'GarageCond', 'PavedDrive', 'WoodDeckSF', 'OpenPorchSF',\n",
       "       'EnclosedPorch', '3SsnPorch', 'ScreenPorch', 'PoolArea', 'PoolQC',\n",
       "       'Fence', 'MiscFeature', 'MiscVal', 'MoSold', 'YrSold', 'SaleType',\n",
       "       'SaleCondition', 'SalePrice'],\n",
       "      dtype='object')"
      ]
     },
     "execution_count": 6,
     "metadata": {},
     "output_type": "execute_result"
    }
   ],
   "source": [
    "df.columns"
   ]
  },
  {
   "cell_type": "code",
   "execution_count": 7,
   "metadata": {},
   "outputs": [
    {
     "data": {
      "text/plain": [
       "81"
      ]
     },
     "execution_count": 7,
     "metadata": {},
     "output_type": "execute_result"
    }
   ],
   "source": [
    "df.columns.size"
   ]
  },
  {
   "cell_type": "code",
   "execution_count": 8,
   "metadata": {},
   "outputs": [
    {
     "data": {
      "text/plain": [
       "Id                 int64\n",
       "MSSubClass         int64\n",
       "MSZoning          object\n",
       "LotFrontage      float64\n",
       "LotArea            int64\n",
       "                  ...   \n",
       "MoSold             int64\n",
       "YrSold             int64\n",
       "SaleType          object\n",
       "SaleCondition     object\n",
       "SalePrice          int64\n",
       "Length: 81, dtype: object"
      ]
     },
     "execution_count": 8,
     "metadata": {},
     "output_type": "execute_result"
    }
   ],
   "source": [
    "df.dtypes"
   ]
  },
  {
   "cell_type": "markdown",
   "metadata": {},
   "source": [
    "# DESCRIBING DATA"
   ]
  },
  {
   "cell_type": "markdown",
   "metadata": {},
   "source": [
    "The measures of central tendency and distribution are some measures to define the data set.\n",
    "\n",
    "The measures used to define the central tendency are mean, median and mode.\n",
    "\n",
    "The standard deviations (or variance) are the minimum and maximum values of variables. The table below is a summary of some statistical measures for each numeric predictor of the dataset:\n",
    "\n",
    "mean: It indicates the average value around which each group of attributes is attested.\n",
    "\n",
    "std (Standard Deviation): It indicates the standard deviation of each attribute group, from which we can guess the degree of data dispersion around the average.\n",
    "\n",
    "max and min indicate the attribute that I assume the highest and lowest value for each attribute group."
   ]
  },
  {
   "cell_type": "markdown",
   "metadata": {},
   "source": [
    "##### describe function only shows the variable which are numeric."
   ]
  },
  {
   "cell_type": "code",
   "execution_count": 9,
   "metadata": {},
   "outputs": [
    {
     "data": {
      "text/html": [
       "<div>\n",
       "<style scoped>\n",
       "    .dataframe tbody tr th:only-of-type {\n",
       "        vertical-align: middle;\n",
       "    }\n",
       "\n",
       "    .dataframe tbody tr th {\n",
       "        vertical-align: top;\n",
       "    }\n",
       "\n",
       "    .dataframe thead th {\n",
       "        text-align: right;\n",
       "    }\n",
       "</style>\n",
       "<table border=\"1\" class=\"dataframe\">\n",
       "  <thead>\n",
       "    <tr style=\"text-align: right;\">\n",
       "      <th></th>\n",
       "      <th>Id</th>\n",
       "      <th>MSSubClass</th>\n",
       "      <th>LotFrontage</th>\n",
       "      <th>LotArea</th>\n",
       "      <th>OverallQual</th>\n",
       "      <th>OverallCond</th>\n",
       "      <th>YearBuilt</th>\n",
       "      <th>YearRemodAdd</th>\n",
       "      <th>MasVnrArea</th>\n",
       "      <th>BsmtFinSF1</th>\n",
       "      <th>...</th>\n",
       "      <th>WoodDeckSF</th>\n",
       "      <th>OpenPorchSF</th>\n",
       "      <th>EnclosedPorch</th>\n",
       "      <th>3SsnPorch</th>\n",
       "      <th>ScreenPorch</th>\n",
       "      <th>PoolArea</th>\n",
       "      <th>MiscVal</th>\n",
       "      <th>MoSold</th>\n",
       "      <th>YrSold</th>\n",
       "      <th>SalePrice</th>\n",
       "    </tr>\n",
       "  </thead>\n",
       "  <tbody>\n",
       "    <tr>\n",
       "      <th>count</th>\n",
       "      <td>1168.000000</td>\n",
       "      <td>1168.000000</td>\n",
       "      <td>954.00000</td>\n",
       "      <td>1168.000000</td>\n",
       "      <td>1168.000000</td>\n",
       "      <td>1168.000000</td>\n",
       "      <td>1168.000000</td>\n",
       "      <td>1168.000000</td>\n",
       "      <td>1161.000000</td>\n",
       "      <td>1168.000000</td>\n",
       "      <td>...</td>\n",
       "      <td>1168.000000</td>\n",
       "      <td>1168.000000</td>\n",
       "      <td>1168.000000</td>\n",
       "      <td>1168.000000</td>\n",
       "      <td>1168.000000</td>\n",
       "      <td>1168.000000</td>\n",
       "      <td>1168.000000</td>\n",
       "      <td>1168.000000</td>\n",
       "      <td>1168.000000</td>\n",
       "      <td>1168.000000</td>\n",
       "    </tr>\n",
       "    <tr>\n",
       "      <th>mean</th>\n",
       "      <td>724.136130</td>\n",
       "      <td>56.767979</td>\n",
       "      <td>70.98847</td>\n",
       "      <td>10484.749144</td>\n",
       "      <td>6.104452</td>\n",
       "      <td>5.595890</td>\n",
       "      <td>1970.930651</td>\n",
       "      <td>1984.758562</td>\n",
       "      <td>102.310078</td>\n",
       "      <td>444.726027</td>\n",
       "      <td>...</td>\n",
       "      <td>96.206336</td>\n",
       "      <td>46.559932</td>\n",
       "      <td>23.015411</td>\n",
       "      <td>3.639555</td>\n",
       "      <td>15.051370</td>\n",
       "      <td>3.448630</td>\n",
       "      <td>47.315068</td>\n",
       "      <td>6.344178</td>\n",
       "      <td>2007.804795</td>\n",
       "      <td>181477.005993</td>\n",
       "    </tr>\n",
       "    <tr>\n",
       "      <th>std</th>\n",
       "      <td>416.159877</td>\n",
       "      <td>41.940650</td>\n",
       "      <td>24.82875</td>\n",
       "      <td>8957.442311</td>\n",
       "      <td>1.390153</td>\n",
       "      <td>1.124343</td>\n",
       "      <td>30.145255</td>\n",
       "      <td>20.785185</td>\n",
       "      <td>182.595606</td>\n",
       "      <td>462.664785</td>\n",
       "      <td>...</td>\n",
       "      <td>126.158988</td>\n",
       "      <td>66.381023</td>\n",
       "      <td>63.191089</td>\n",
       "      <td>29.088867</td>\n",
       "      <td>55.080816</td>\n",
       "      <td>44.896939</td>\n",
       "      <td>543.264432</td>\n",
       "      <td>2.686352</td>\n",
       "      <td>1.329738</td>\n",
       "      <td>79105.586863</td>\n",
       "    </tr>\n",
       "    <tr>\n",
       "      <th>min</th>\n",
       "      <td>1.000000</td>\n",
       "      <td>20.000000</td>\n",
       "      <td>21.00000</td>\n",
       "      <td>1300.000000</td>\n",
       "      <td>1.000000</td>\n",
       "      <td>1.000000</td>\n",
       "      <td>1875.000000</td>\n",
       "      <td>1950.000000</td>\n",
       "      <td>0.000000</td>\n",
       "      <td>0.000000</td>\n",
       "      <td>...</td>\n",
       "      <td>0.000000</td>\n",
       "      <td>0.000000</td>\n",
       "      <td>0.000000</td>\n",
       "      <td>0.000000</td>\n",
       "      <td>0.000000</td>\n",
       "      <td>0.000000</td>\n",
       "      <td>0.000000</td>\n",
       "      <td>1.000000</td>\n",
       "      <td>2006.000000</td>\n",
       "      <td>34900.000000</td>\n",
       "    </tr>\n",
       "    <tr>\n",
       "      <th>25%</th>\n",
       "      <td>360.500000</td>\n",
       "      <td>20.000000</td>\n",
       "      <td>60.00000</td>\n",
       "      <td>7621.500000</td>\n",
       "      <td>5.000000</td>\n",
       "      <td>5.000000</td>\n",
       "      <td>1954.000000</td>\n",
       "      <td>1966.000000</td>\n",
       "      <td>0.000000</td>\n",
       "      <td>0.000000</td>\n",
       "      <td>...</td>\n",
       "      <td>0.000000</td>\n",
       "      <td>0.000000</td>\n",
       "      <td>0.000000</td>\n",
       "      <td>0.000000</td>\n",
       "      <td>0.000000</td>\n",
       "      <td>0.000000</td>\n",
       "      <td>0.000000</td>\n",
       "      <td>5.000000</td>\n",
       "      <td>2007.000000</td>\n",
       "      <td>130375.000000</td>\n",
       "    </tr>\n",
       "    <tr>\n",
       "      <th>50%</th>\n",
       "      <td>714.500000</td>\n",
       "      <td>50.000000</td>\n",
       "      <td>70.00000</td>\n",
       "      <td>9522.500000</td>\n",
       "      <td>6.000000</td>\n",
       "      <td>5.000000</td>\n",
       "      <td>1972.000000</td>\n",
       "      <td>1993.000000</td>\n",
       "      <td>0.000000</td>\n",
       "      <td>385.500000</td>\n",
       "      <td>...</td>\n",
       "      <td>0.000000</td>\n",
       "      <td>24.000000</td>\n",
       "      <td>0.000000</td>\n",
       "      <td>0.000000</td>\n",
       "      <td>0.000000</td>\n",
       "      <td>0.000000</td>\n",
       "      <td>0.000000</td>\n",
       "      <td>6.000000</td>\n",
       "      <td>2008.000000</td>\n",
       "      <td>163995.000000</td>\n",
       "    </tr>\n",
       "    <tr>\n",
       "      <th>75%</th>\n",
       "      <td>1079.500000</td>\n",
       "      <td>70.000000</td>\n",
       "      <td>80.00000</td>\n",
       "      <td>11515.500000</td>\n",
       "      <td>7.000000</td>\n",
       "      <td>6.000000</td>\n",
       "      <td>2000.000000</td>\n",
       "      <td>2004.000000</td>\n",
       "      <td>160.000000</td>\n",
       "      <td>714.500000</td>\n",
       "      <td>...</td>\n",
       "      <td>171.000000</td>\n",
       "      <td>70.000000</td>\n",
       "      <td>0.000000</td>\n",
       "      <td>0.000000</td>\n",
       "      <td>0.000000</td>\n",
       "      <td>0.000000</td>\n",
       "      <td>0.000000</td>\n",
       "      <td>8.000000</td>\n",
       "      <td>2009.000000</td>\n",
       "      <td>215000.000000</td>\n",
       "    </tr>\n",
       "    <tr>\n",
       "      <th>max</th>\n",
       "      <td>1460.000000</td>\n",
       "      <td>190.000000</td>\n",
       "      <td>313.00000</td>\n",
       "      <td>164660.000000</td>\n",
       "      <td>10.000000</td>\n",
       "      <td>9.000000</td>\n",
       "      <td>2010.000000</td>\n",
       "      <td>2010.000000</td>\n",
       "      <td>1600.000000</td>\n",
       "      <td>5644.000000</td>\n",
       "      <td>...</td>\n",
       "      <td>857.000000</td>\n",
       "      <td>547.000000</td>\n",
       "      <td>552.000000</td>\n",
       "      <td>508.000000</td>\n",
       "      <td>480.000000</td>\n",
       "      <td>738.000000</td>\n",
       "      <td>15500.000000</td>\n",
       "      <td>12.000000</td>\n",
       "      <td>2010.000000</td>\n",
       "      <td>755000.000000</td>\n",
       "    </tr>\n",
       "  </tbody>\n",
       "</table>\n",
       "<p>8 rows × 38 columns</p>\n",
       "</div>"
      ],
      "text/plain": [
       "                Id   MSSubClass  LotFrontage        LotArea  OverallQual  \\\n",
       "count  1168.000000  1168.000000    954.00000    1168.000000  1168.000000   \n",
       "mean    724.136130    56.767979     70.98847   10484.749144     6.104452   \n",
       "std     416.159877    41.940650     24.82875    8957.442311     1.390153   \n",
       "min       1.000000    20.000000     21.00000    1300.000000     1.000000   \n",
       "25%     360.500000    20.000000     60.00000    7621.500000     5.000000   \n",
       "50%     714.500000    50.000000     70.00000    9522.500000     6.000000   \n",
       "75%    1079.500000    70.000000     80.00000   11515.500000     7.000000   \n",
       "max    1460.000000   190.000000    313.00000  164660.000000    10.000000   \n",
       "\n",
       "       OverallCond    YearBuilt  YearRemodAdd   MasVnrArea   BsmtFinSF1  ...  \\\n",
       "count  1168.000000  1168.000000   1168.000000  1161.000000  1168.000000  ...   \n",
       "mean      5.595890  1970.930651   1984.758562   102.310078   444.726027  ...   \n",
       "std       1.124343    30.145255     20.785185   182.595606   462.664785  ...   \n",
       "min       1.000000  1875.000000   1950.000000     0.000000     0.000000  ...   \n",
       "25%       5.000000  1954.000000   1966.000000     0.000000     0.000000  ...   \n",
       "50%       5.000000  1972.000000   1993.000000     0.000000   385.500000  ...   \n",
       "75%       6.000000  2000.000000   2004.000000   160.000000   714.500000  ...   \n",
       "max       9.000000  2010.000000   2010.000000  1600.000000  5644.000000  ...   \n",
       "\n",
       "        WoodDeckSF  OpenPorchSF  EnclosedPorch    3SsnPorch  ScreenPorch  \\\n",
       "count  1168.000000  1168.000000    1168.000000  1168.000000  1168.000000   \n",
       "mean     96.206336    46.559932      23.015411     3.639555    15.051370   \n",
       "std     126.158988    66.381023      63.191089    29.088867    55.080816   \n",
       "min       0.000000     0.000000       0.000000     0.000000     0.000000   \n",
       "25%       0.000000     0.000000       0.000000     0.000000     0.000000   \n",
       "50%       0.000000    24.000000       0.000000     0.000000     0.000000   \n",
       "75%     171.000000    70.000000       0.000000     0.000000     0.000000   \n",
       "max     857.000000   547.000000     552.000000   508.000000   480.000000   \n",
       "\n",
       "          PoolArea       MiscVal       MoSold       YrSold      SalePrice  \n",
       "count  1168.000000   1168.000000  1168.000000  1168.000000    1168.000000  \n",
       "mean      3.448630     47.315068     6.344178  2007.804795  181477.005993  \n",
       "std      44.896939    543.264432     2.686352     1.329738   79105.586863  \n",
       "min       0.000000      0.000000     1.000000  2006.000000   34900.000000  \n",
       "25%       0.000000      0.000000     5.000000  2007.000000  130375.000000  \n",
       "50%       0.000000      0.000000     6.000000  2008.000000  163995.000000  \n",
       "75%       0.000000      0.000000     8.000000  2009.000000  215000.000000  \n",
       "max     738.000000  15500.000000    12.000000  2010.000000  755000.000000  \n",
       "\n",
       "[8 rows x 38 columns]"
      ]
     },
     "execution_count": 9,
     "metadata": {},
     "output_type": "execute_result"
    }
   ],
   "source": [
    "df.describe()"
   ]
  },
  {
   "cell_type": "markdown",
   "metadata": {},
   "source": [
    "\n",
    "OBSERVATIONS:\n",
    "\n",
    "Mean of \"SalePrice\": 181477.005993\n",
    "\n",
    "Minimum \"SalePrice\" of House: 34900\n",
    "\n",
    "Max \"SalePrice\" of House: 755000\n",
    "\n",
    "We can see there is huge difference in Min & Max value of \"SalePrice\""
   ]
  },
  {
   "cell_type": "markdown",
   "metadata": {},
   "source": [
    "# EXPLORATORY DATA ANALYSIS"
   ]
  },
  {
   "cell_type": "code",
   "execution_count": 10,
   "metadata": {},
   "outputs": [
    {
     "data": {
      "text/plain": [
       "<matplotlib.axes._subplots.AxesSubplot at 0x283b3984160>"
      ]
     },
     "execution_count": 10,
     "metadata": {},
     "output_type": "execute_result"
    },
    {
     "data": {
      "image/png": "[encoded data removed]",
      "text/plain": [
       "<Figure size 432x288 with 1 Axes>"
      ]
     },
     "metadata": {
      "needs_background": "light"
     },
     "output_type": "display_data"
    }
   ],
   "source": [
    "# Visualizing our target variable\n",
    "\n",
    "sns.distplot(df[\"SalePrice\"], kde=True,color = 'blue')"
   ]
  },
  {
   "cell_type": "markdown",
   "metadata": {},
   "source": [
    "WE CAN VISUALIZE RIGHT SKEWNESS IN OUR TARGET VARAIBLE"
   ]
  },
  {
   "cell_type": "markdown",
   "metadata": {},
   "source": [
    "###  Univariate analysis of Categorical varaibles:"
   ]
  },
  {
   "cell_type": "code",
   "execution_count": 11,
   "metadata": {},
   "outputs": [
    {
     "data": {
      "text/plain": [
       "Index(['MSZoning', 'Street', 'Alley', 'LotShape', 'LandContour', 'Utilities',\n",
       "       'LotConfig', 'LandSlope', 'Neighborhood', 'Condition1', 'Condition2',\n",
       "       'BldgType', 'HouseStyle', 'RoofStyle', 'RoofMatl', 'Exterior1st',\n",
       "       'Exterior2nd', 'MasVnrType', 'ExterQual', 'ExterCond', 'Foundation',\n",
       "       'BsmtQual', 'BsmtCond', 'BsmtExposure', 'BsmtFinType1', 'BsmtFinType2',\n",
       "       'Heating', 'HeatingQC', 'CentralAir', 'Electrical', 'KitchenQual',\n",
       "       'Functional', 'FireplaceQu', 'GarageType', 'GarageFinish', 'GarageQual',\n",
       "       'GarageCond', 'PavedDrive', 'PoolQC', 'Fence', 'MiscFeature',\n",
       "       'SaleType', 'SaleCondition'],\n",
       "      dtype='object')"
      ]
     },
     "execution_count": 11,
     "metadata": {},
     "output_type": "execute_result"
    }
   ],
   "source": [
    "df.select_dtypes(include=['object']).columns"
   ]
  },
  {
   "cell_type": "code",
   "execution_count": 12,
   "metadata": {},
   "outputs": [
    {
     "data": {
      "image/png": "[encoded data removed]",
      "text/plain": [
       "<Figure size 432x288 with 1 Axes>"
      ]
     },
     "metadata": {
      "needs_background": "light"
     },
     "output_type": "display_data"
    },
    {
     "data": {
      "image/png": "[encoded data removed]",
      "text/plain": [
       "<Figure size 432x288 with 1 Axes>"
      ]
     },
     "metadata": {
      "needs_background": "light"
     },
     "output_type": "display_data"
    },
    {
     "data": {
      "image/png": "[encoded data removed]",
      "text/plain": [
       "<Figure size 432x288 with 1 Axes>"
      ]
     },
     "metadata": {
      "needs_background": "light"
     },
     "output_type": "display_data"
    },
    {
     "data": {
      "image/png": "[encoded data removed]",
      "text/plain": [
       "<Figure size 432x288 with 1 Axes>"
      ]
     },
     "metadata": {
      "needs_background": "light"
     },
     "output_type": "display_data"
    },
    {
     "data": {
      "image/png": "[encoded data removed]",
      "text/plain": [
       "<Figure size 432x288 with 1 Axes>"
      ]
     },
     "metadata": {
      "needs_background": "light"
     },
     "output_type": "display_data"
    },
    {
     "data": {
      "image/png": "[encoded data removed]",
      "text/plain": [
       "<Figure size 432x288 with 1 Axes>"
      ]
     },
     "metadata": {
      "needs_background": "light"
     },
     "output_type": "display_data"
    },
    {
     "data": {
      "image/png": "[encoded data removed]",
      "text/plain": [
       "<Figure size 432x288 with 1 Axes>"
      ]
     },
     "metadata": {
      "needs_background": "light"
     },
     "output_type": "display_data"
    },
    {
     "data": {
      "image/png": "[encoded data removed]",
      "text/plain": [
       "<Figure size 432x288 with 1 Axes>"
      ]
     },
     "metadata": {
      "needs_background": "light"
     },
     "output_type": "display_data"
    },
    {
     "data": {
      "image/png": "[encoded data removed]",
      "text/plain": [
       "<Figure size 432x288 with 1 Axes>"
      ]
     },
     "metadata": {
      "needs_background": "light"
     },
     "output_type": "display_data"
    },
    {
     "data": {
      "image/png": "[encoded data removed]",
      "text/plain": [
       "<Figure size 432x288 with 1 Axes>"
      ]
     },
     "metadata": {
      "needs_background": "light"
     },
     "output_type": "display_data"
    },
    {
     "data": {
      "image/png": "[encoded data removed]",
      "text/plain": [
       "<Figure size 432x288 with 1 Axes>"
      ]
     },
     "metadata": {
      "needs_background": "light"
     },
     "output_type": "display_data"
    },
    {
     "data": {
      "image/png": "[encoded data removed]",
      "text/plain": [
       "<Figure size 432x288 with 1 Axes>"
      ]
     },
     "metadata": {
      "needs_background": "light"
     },
     "output_type": "display_data"
    },
    {
     "data": {
      "image/png": "[encoded data removed]",
      "text/plain": [
       "<Figure size 432x288 with 1 Axes>"
      ]
     },
     "metadata": {
      "needs_background": "light"
     },
     "output_type": "display_data"
    },
    {
     "data": {
      "image/png": "[encoded data removed]",
      "text/plain": [
       "<Figure size 432x288 with 1 Axes>"
      ]
     },
     "metadata": {
      "needs_background": "light"
     },
     "output_type": "display_data"
    },
    {
     "data": {
      "image/png": "[encoded data removed]",
      "text/plain": [
       "<Figure size 432x288 with 1 Axes>"
      ]
     },
     "metadata": {
      "needs_background": "light"
     },
     "output_type": "display_data"
    },
    {
     "data": {
      "image/png": "[encoded data removed]",
      "text/plain": [
       "<Figure size 432x288 with 1 Axes>"
      ]
     },
     "metadata": {
      "needs_background": "light"
     },
     "output_type": "display_data"
    },
    {
     "data": {
      "image/png": "[encoded data removed]",
      "text/plain": [
       "<Figure size 432x288 with 1 Axes>"
      ]
     },
     "metadata": {
      "needs_background": "light"
     },
     "output_type": "display_data"
    },
    {
     "data": {
      "image/png": "[encoded data removed]",
      "text/plain": [
       "<Figure size 432x288 with 1 Axes>"
      ]
     },
     "metadata": {
      "needs_background": "light"
     },
     "output_type": "display_data"
    },
    {
     "data": {
      "image/png": "[encoded data removed]",
      "text/plain": [
       "<Figure size 432x288 with 1 Axes>"
      ]
     },
     "metadata": {
      "needs_background": "light"
     },
     "output_type": "display_data"
    },
    {
     "data": {
      "image/png": "[encoded data removed]",
      "text/plain": [
       "<Figure size 432x288 with 1 Axes>"
      ]
     },
     "metadata": {
      "needs_background": "light"
     },
     "output_type": "display_data"
    },
    {
     "data": {
      "image/png": "[encoded data removed]",
      "text/plain": [
       "<Figure size 432x288 with 1 Axes>"
      ]
     },
     "metadata": {
      "needs_background": "light"
     },
     "output_type": "display_data"
    },
    {
     "data": {
      "image/png": "[encoded data removed]",
      "text/plain": [
       "<Figure size 432x288 with 1 Axes>"
      ]
     },
     "metadata": {
      "needs_background": "light"
     },
     "output_type": "display_data"
    },
    {
     "data": {
      "image/png": "[encoded data removed]",
      "text/plain": [
       "<Figure size 432x288 with 1 Axes>"
      ]
     },
     "metadata": {
      "needs_background": "light"
     },
     "output_type": "display_data"
    },
    {
     "data": {
      "image/png": "[encoded data removed]",
      "text/plain": [
       "<Figure size 432x288 with 1 Axes>"
      ]
     },
     "metadata": {
      "needs_background": "light"
     },
     "output_type": "display_data"
    },
    {
     "data": {
      "image/png": "[encoded data removed]",
      "text/plain": [
       "<Figure size 432x288 with 1 Axes>"
      ]
     },
     "metadata": {
      "needs_background": "light"
     },
     "output_type": "display_data"
    },
    {
     "data": {
      "image/png": "[encoded data removed]",
      "text/plain": [
       "<Figure size 432x288 with 1 Axes>"
      ]
     },
     "metadata": {
      "needs_background": "light"
     },
     "output_type": "display_data"
    },
    {
     "data": {
      "image/png": "[encoded data removed]",
      "text/plain": [
       "<Figure size 432x288 with 1 Axes>"
      ]
     },
     "metadata": {
      "needs_background": "light"
     },
     "output_type": "display_data"
    },
    {
     "data": {
      "image/png": "[encoded data removed]",
      "text/plain": [
       "<Figure size 432x288 with 1 Axes>"
      ]
     },
     "metadata": {
      "needs_background": "light"
     },
     "output_type": "display_data"
    },
    {
     "data": {
      "image/png": "[encoded data removed]",
      "text/plain": [
       "<Figure size 432x288 with 1 Axes>"
      ]
     },
     "metadata": {
      "needs_background": "light"
     },
     "output_type": "display_data"
    },
    {
     "data": {
      "image/png": "[encoded data removed]",
      "text/plain": [
       "<Figure size 432x288 with 1 Axes>"
      ]
     },
     "metadata": {
      "needs_background": "light"
     },
     "output_type": "display_data"
    },
    {
     "data": {
      "image/png": "[encoded data removed]",
      "text/plain": [
       "<Figure size 432x288 with 1 Axes>"
      ]
     },
     "metadata": {
      "needs_background": "light"
     },
     "output_type": "display_data"
    },
    {
     "data": {
      "image/png": "[encoded data removed]",
      "text/plain": [
       "<Figure size 432x288 with 1 Axes>"
      ]
     },
     "metadata": {
      "needs_background": "light"
     },
     "output_type": "display_data"
    },
    {
     "data": {
      "image/png": "[encoded data removed]",
      "text/plain": [
       "<Figure size 432x288 with 1 Axes>"
      ]
     },
     "metadata": {
      "needs_background": "light"
     },
     "output_type": "display_data"
    },
    {
     "data": {
      "image/png": "[encoded data removed]",
      "text/plain": [
       "<Figure size 432x288 with 1 Axes>"
      ]
     },
     "metadata": {
      "needs_background": "light"
     },
     "output_type": "display_data"
    },
    {
     "data": {
      "image/png": "[encoded data removed]",
      "text/plain": [
       "<Figure size 432x288 with 1 Axes>"
      ]
     },
     "metadata": {
      "needs_background": "light"
     },
     "output_type": "display_data"
    },
    {
     "data": {
      "image/png": "[encoded data removed]",
      "text/plain": [
       "<Figure size 432x288 with 1 Axes>"
      ]
     },
     "metadata": {
      "needs_background": "light"
     },
     "output_type": "display_data"
    },
    {
     "data": {
      "image/png": "[encoded data removed]",
      "text/plain": [
       "<Figure size 432x288 with 1 Axes>"
      ]
     },
     "metadata": {
      "needs_background": "light"
     },
     "output_type": "display_data"
    },
    {
     "data": {
      "image/png": "[encoded data removed]",
      "text/plain": [
       "<Figure size 432x288 with 1 Axes>"
      ]
     },
     "metadata": {
      "needs_background": "light"
     },
     "output_type": "display_data"
    },
    {
     "data": {
      "image/png": "[encoded data removed]",
      "text/plain": [
       "<Figure size 432x288 with 1 Axes>"
      ]
     },
     "metadata": {
      "needs_background": "light"
     },
     "output_type": "display_data"
    },
    {
     "data": {
      "image/png": "[encoded data removed]",
      "text/plain": [
       "<Figure size 432x288 with 1 Axes>"
      ]
     },
     "metadata": {
      "needs_background": "light"
     },
     "output_type": "display_data"
    },
    {
     "data": {
      "image/png": "[encoded data removed]",
      "text/plain": [
       "<Figure size 432x288 with 1 Axes>"
      ]
     },
     "metadata": {
      "needs_background": "light"
     },
     "output_type": "display_data"
    },
    {
     "data": {
      "image/png": "[encoded data removed]",
      "text/plain": [
       "<Figure size 432x288 with 1 Axes>"
      ]
     },
     "metadata": {
      "needs_background": "light"
     },
     "output_type": "display_data"
    },
    {
     "data": {
      "image/png": "[encoded data removed]",
      "text/plain": [
       "<Figure size 432x288 with 1 Axes>"
      ]
     },
     "metadata": {
      "needs_background": "light"
     },
     "output_type": "display_data"
    }
   ],
   "source": [
    "for i in df.columns:\n",
    "    if df[i].dtypes== \"object\":\n",
    "        df[i].value_counts(normalize=True).plot.bar(figsize=(6,4), title=i)\n",
    "        plt.show() "
   ]
  },
  {
   "cell_type": "markdown",
   "metadata": {},
   "source": [
    "### Analysis of Variable which are Continous:"
   ]
  },
  {
   "cell_type": "code",
   "execution_count": 13,
   "metadata": {},
   "outputs": [
    {
     "data": {
      "text/plain": [
       "array([[<matplotlib.axes._subplots.AxesSubplot object at 0x00000283B428C340>,\n",
       "        <matplotlib.axes._subplots.AxesSubplot object at 0x00000283B4411610>,\n",
       "        <matplotlib.axes._subplots.AxesSubplot object at 0x00000283B44C7A60>,\n",
       "        <matplotlib.axes._subplots.AxesSubplot object at 0x00000283B457AEB0>,\n",
       "        <matplotlib.axes._subplots.AxesSubplot object at 0x00000283B435E340>,\n",
       "        <matplotlib.axes._subplots.AxesSubplot object at 0x00000283B46646D0>],\n",
       "       [<matplotlib.axes._subplots.AxesSubplot object at 0x00000283B46647C0>,\n",
       "        <matplotlib.axes._subplots.AxesSubplot object at 0x00000283B471DC70>,\n",
       "        <matplotlib.axes._subplots.AxesSubplot object at 0x00000283B47074C0>,\n",
       "        <matplotlib.axes._subplots.AxesSubplot object at 0x00000283B47A8910>,\n",
       "        <matplotlib.axes._subplots.AxesSubplot object at 0x00000283B47D7D60>,\n",
       "        <matplotlib.axes._subplots.AxesSubplot object at 0x00000283B45F7850>],\n",
       "       [<matplotlib.axes._subplots.AxesSubplot object at 0x00000283B47E5C10>,\n",
       "        <matplotlib.axes._subplots.AxesSubplot object at 0x00000283B42EAC10>,\n",
       "        <matplotlib.axes._subplots.AxesSubplot object at 0x00000283B469DD90>,\n",
       "        <matplotlib.axes._subplots.AxesSubplot object at 0x00000283B4712CA0>,\n",
       "        <matplotlib.axes._subplots.AxesSubplot object at 0x00000283B46D7BB0>,\n",
       "        <matplotlib.axes._subplots.AxesSubplot object at 0x00000283B42D25B0>],\n",
       "       [<matplotlib.axes._subplots.AxesSubplot object at 0x00000283B4248E20>,\n",
       "        <matplotlib.axes._subplots.AxesSubplot object at 0x00000283B424A820>,\n",
       "        <matplotlib.axes._subplots.AxesSubplot object at 0x00000283B43E35B0>,\n",
       "        <matplotlib.axes._subplots.AxesSubplot object at 0x00000283B4460190>,\n",
       "        <matplotlib.axes._subplots.AxesSubplot object at 0x00000283B42B9310>,\n",
       "        <matplotlib.axes._subplots.AxesSubplot object at 0x00000283B46EEAC0>],\n",
       "       [<matplotlib.axes._subplots.AxesSubplot object at 0x00000283B45DCD00>,\n",
       "        <matplotlib.axes._subplots.AxesSubplot object at 0x00000283B4337070>,\n",
       "        <matplotlib.axes._subplots.AxesSubplot object at 0x00000283B436BDC0>,\n",
       "        <matplotlib.axes._subplots.AxesSubplot object at 0x00000283B4529E50>,\n",
       "        <matplotlib.axes._subplots.AxesSubplot object at 0x00000283B468B1F0>,\n",
       "        <matplotlib.axes._subplots.AxesSubplot object at 0x00000283B4291C70>],\n",
       "       [<matplotlib.axes._subplots.AxesSubplot object at 0x00000283B4554A90>,\n",
       "        <matplotlib.axes._subplots.AxesSubplot object at 0x00000283B4846310>,\n",
       "        <matplotlib.axes._subplots.AxesSubplot object at 0x00000283B4871760>,\n",
       "        <matplotlib.axes._subplots.AxesSubplot object at 0x00000283B489EBB0>,\n",
       "        <matplotlib.axes._subplots.AxesSubplot object at 0x00000283B48CB0A0>,\n",
       "        <matplotlib.axes._subplots.AxesSubplot object at 0x00000283B4904490>],\n",
       "       [<matplotlib.axes._subplots.AxesSubplot object at 0x00000283B492E8E0>,\n",
       "        <matplotlib.axes._subplots.AxesSubplot object at 0x00000283B495BD30>,\n",
       "        <matplotlib.axes._subplots.AxesSubplot object at 0x00000283B4991100>,\n",
       "        <matplotlib.axes._subplots.AxesSubplot object at 0x00000283B49B1700>,\n",
       "        <matplotlib.axes._subplots.AxesSubplot object at 0x00000283B49DDB50>,\n",
       "        <matplotlib.axes._subplots.AxesSubplot object at 0x00000283B4A0DA60>]],\n",
       "      dtype=object)"
      ]
     },
     "execution_count": 13,
     "metadata": {},
     "output_type": "execute_result"
    },
    {
     "data": {
      "image/png": "[encoded data removed]",
      "text/plain": [
       "<Figure size 1152x1296 with 42 Axes>"
      ]
     },
     "metadata": {
      "needs_background": "light"
     },
     "output_type": "display_data"
    }
   ],
   "source": [
    "# we use histogram for showing our continous variables.\n",
    "\n",
    "df.hist(figsize=(16,18),sharex=False)"
   ]
  },
  {
   "cell_type": "markdown",
   "metadata": {},
   "source": [
    "Right skewness is present in most of our contionous varaibles."
   ]
  },
  {
   "cell_type": "markdown",
   "metadata": {},
   "source": [
    "# DATA PRE-PROCESSING"
   ]
  },
  {
   "cell_type": "markdown",
   "metadata": {},
   "source": [
    "Data Cleaning and pre-processing is very important part to create any machine learning model. The cleaner the data will be, the better the prediction will come.\n",
    "\n",
    "This data provided is raw and we have to run many functions to clean."
   ]
  },
  {
   "cell_type": "code",
   "execution_count": 14,
   "metadata": {},
   "outputs": [
    {
     "data": {
      "image/png": "[encoded data removed]",
      "text/plain": [
       "<Figure size 864x576 with 2 Axes>"
      ]
     },
     "metadata": {
      "needs_background": "light"
     },
     "output_type": "display_data"
    }
   ],
   "source": [
    "cols = df.columns \n",
    "colours = ['g', 'r'] \n",
    "f, ax = plt.subplots(figsize = (12,8))\n",
    "sns.set_style(\"whitegrid\")\n",
    "plt.title('Missing Values Heatmap', )\n",
    "sns.heatmap(df[cols].isnull(), cmap=sns.color_palette(colours));"
   ]
  },
  {
   "cell_type": "markdown",
   "metadata": {},
   "source": [
    "we can visualize that NaN values are present in our dataset.\n",
    "\n",
    "We will treat them first:"
   ]
  },
  {
   "cell_type": "code",
   "execution_count": 15,
   "metadata": {},
   "outputs": [
    {
     "data": {
      "text/plain": [
       "Id                 0\n",
       "MSSubClass         0\n",
       "MSZoning           0\n",
       "LotFrontage      214\n",
       "LotArea            0\n",
       "                ... \n",
       "MoSold             0\n",
       "YrSold             0\n",
       "SaleType           0\n",
       "SaleCondition      0\n",
       "SalePrice          0\n",
       "Length: 81, dtype: int64"
      ]
     },
     "execution_count": 15,
     "metadata": {},
     "output_type": "execute_result"
    }
   ],
   "source": [
    "df.isnull().sum()"
   ]
  },
  {
   "cell_type": "code",
   "execution_count": 16,
   "metadata": {},
   "outputs": [
    {
     "data": {
      "text/plain": [
       "(1168, 81)"
      ]
     },
     "execution_count": 16,
     "metadata": {},
     "output_type": "execute_result"
    }
   ],
   "source": [
    "df.shape"
   ]
  },
  {
   "cell_type": "markdown",
   "metadata": {},
   "source": [
    "### Droping irrelevant columns:"
   ]
  },
  {
   "cell_type": "markdown",
   "metadata": {},
   "source": [
    "1) Id has all the unique vales.\n",
    "\n",
    "2) Utilites has only one unique value.\n",
    "\n",
    "3) 'Alley','FireplaceQu','PoolQC','Fence','MiscFeature' has more than 70% NaNvalues.\n",
    "\n",
    "Hence these varaibles are not contributing in our predictions.\n",
    "we will drop these varaiables."
   ]
  },
  {
   "cell_type": "code",
   "execution_count": 17,
   "metadata": {},
   "outputs": [],
   "source": [
    "df = df.drop(columns = ['Alley','FireplaceQu','PoolQC','Fence','MiscFeature','Utilities','Id'])"
   ]
  },
  {
   "cell_type": "code",
   "execution_count": 18,
   "metadata": {},
   "outputs": [
    {
     "name": "stdout",
     "output_type": "stream",
     "text": [
      "<class 'pandas.core.frame.DataFrame'>\n",
      "RangeIndex: 1168 entries, 0 to 1167\n",
      "Data columns (total 74 columns):\n",
      " #   Column         Non-Null Count  Dtype  \n",
      "---  ------         --------------  -----  \n",
      " 0   MSSubClass     1168 non-null   int64  \n",
      " 1   MSZoning       1168 non-null   object \n",
      " 2   LotFrontage    954 non-null    float64\n",
      " 3   LotArea        1168 non-null   int64  \n",
      " 4   Street         1168 non-null   object \n",
      " 5   LotShape       1168 non-null   object \n",
      " 6   LandContour    1168 non-null   object \n",
      " 7   LotConfig      1168 non-null   object \n",
      " 8   LandSlope      1168 non-null   object \n",
      " 9   Neighborhood   1168 non-null   object \n",
      " 10  Condition1     1168 non-null   object \n",
      " 11  Condition2     1168 non-null   object \n",
      " 12  BldgType       1168 non-null   object \n",
      " 13  HouseStyle     1168 non-null   object \n",
      " 14  OverallQual    1168 non-null   int64  \n",
      " 15  OverallCond    1168 non-null   int64  \n",
      " 16  YearBuilt      1168 non-null   int64  \n",
      " 17  YearRemodAdd   1168 non-null   int64  \n",
      " 18  RoofStyle      1168 non-null   object \n",
      " 19  RoofMatl       1168 non-null   object \n",
      " 20  Exterior1st    1168 non-null   object \n",
      " 21  Exterior2nd    1168 non-null   object \n",
      " 22  MasVnrType     1161 non-null   object \n",
      " 23  MasVnrArea     1161 non-null   float64\n",
      " 24  ExterQual      1168 non-null   object \n",
      " 25  ExterCond      1168 non-null   object \n",
      " 26  Foundation     1168 non-null   object \n",
      " 27  BsmtQual       1138 non-null   object \n",
      " 28  BsmtCond       1138 non-null   object \n",
      " 29  BsmtExposure   1137 non-null   object \n",
      " 30  BsmtFinType1   1138 non-null   object \n",
      " 31  BsmtFinSF1     1168 non-null   int64  \n",
      " 32  BsmtFinType2   1137 non-null   object \n",
      " 33  BsmtFinSF2     1168 non-null   int64  \n",
      " 34  BsmtUnfSF      1168 non-null   int64  \n",
      " 35  TotalBsmtSF    1168 non-null   int64  \n",
      " 36  Heating        1168 non-null   object \n",
      " 37  HeatingQC      1168 non-null   object \n",
      " 38  CentralAir     1168 non-null   object \n",
      " 39  Electrical     1168 non-null   object \n",
      " 40  1stFlrSF       1168 non-null   int64  \n",
      " 41  2ndFlrSF       1168 non-null   int64  \n",
      " 42  LowQualFinSF   1168 non-null   int64  \n",
      " 43  GrLivArea      1168 non-null   int64  \n",
      " 44  BsmtFullBath   1168 non-null   int64  \n",
      " 45  BsmtHalfBath   1168 non-null   int64  \n",
      " 46  FullBath       1168 non-null   int64  \n",
      " 47  HalfBath       1168 non-null   int64  \n",
      " 48  BedroomAbvGr   1168 non-null   int64  \n",
      " 49  KitchenAbvGr   1168 non-null   int64  \n",
      " 50  KitchenQual    1168 non-null   object \n",
      " 51  TotRmsAbvGrd   1168 non-null   int64  \n",
      " 52  Functional     1168 non-null   object \n",
      " 53  Fireplaces     1168 non-null   int64  \n",
      " 54  GarageType     1104 non-null   object \n",
      " 55  GarageYrBlt    1104 non-null   float64\n",
      " 56  GarageFinish   1104 non-null   object \n",
      " 57  GarageCars     1168 non-null   int64  \n",
      " 58  GarageArea     1168 non-null   int64  \n",
      " 59  GarageQual     1104 non-null   object \n",
      " 60  GarageCond     1104 non-null   object \n",
      " 61  PavedDrive     1168 non-null   object \n",
      " 62  WoodDeckSF     1168 non-null   int64  \n",
      " 63  OpenPorchSF    1168 non-null   int64  \n",
      " 64  EnclosedPorch  1168 non-null   int64  \n",
      " 65  3SsnPorch      1168 non-null   int64  \n",
      " 66  ScreenPorch    1168 non-null   int64  \n",
      " 67  PoolArea       1168 non-null   int64  \n",
      " 68  MiscVal        1168 non-null   int64  \n",
      " 69  MoSold         1168 non-null   int64  \n",
      " 70  YrSold         1168 non-null   int64  \n",
      " 71  SaleType       1168 non-null   object \n",
      " 72  SaleCondition  1168 non-null   object \n",
      " 73  SalePrice      1168 non-null   int64  \n",
      "dtypes: float64(3), int64(34), object(37)\n",
      "memory usage: 675.4+ KB\n"
     ]
    }
   ],
   "source": [
    "df.info()"
   ]
  },
  {
   "cell_type": "code",
   "execution_count": 19,
   "metadata": {},
   "outputs": [
    {
     "data": {
      "text/html": [
       "<div>\n",
       "<style scoped>\n",
       "    .dataframe tbody tr th:only-of-type {\n",
       "        vertical-align: middle;\n",
       "    }\n",
       "\n",
       "    .dataframe tbody tr th {\n",
       "        vertical-align: top;\n",
       "    }\n",
       "\n",
       "    .dataframe thead th {\n",
       "        text-align: right;\n",
       "    }\n",
       "</style>\n",
       "<table border=\"1\" class=\"dataframe\">\n",
       "  <thead>\n",
       "    <tr style=\"text-align: right;\">\n",
       "      <th></th>\n",
       "      <th>MSSubClass</th>\n",
       "      <th>MSZoning</th>\n",
       "      <th>LotFrontage</th>\n",
       "      <th>LotArea</th>\n",
       "      <th>Street</th>\n",
       "      <th>LotShape</th>\n",
       "      <th>LandContour</th>\n",
       "      <th>LotConfig</th>\n",
       "      <th>LandSlope</th>\n",
       "      <th>Neighborhood</th>\n",
       "      <th>...</th>\n",
       "      <th>EnclosedPorch</th>\n",
       "      <th>3SsnPorch</th>\n",
       "      <th>ScreenPorch</th>\n",
       "      <th>PoolArea</th>\n",
       "      <th>MiscVal</th>\n",
       "      <th>MoSold</th>\n",
       "      <th>YrSold</th>\n",
       "      <th>SaleType</th>\n",
       "      <th>SaleCondition</th>\n",
       "      <th>SalePrice</th>\n",
       "    </tr>\n",
       "  </thead>\n",
       "  <tbody>\n",
       "    <tr>\n",
       "      <th>0</th>\n",
       "      <td>120</td>\n",
       "      <td>RL</td>\n",
       "      <td>NaN</td>\n",
       "      <td>4928</td>\n",
       "      <td>Pave</td>\n",
       "      <td>IR1</td>\n",
       "      <td>Lvl</td>\n",
       "      <td>Inside</td>\n",
       "      <td>Gtl</td>\n",
       "      <td>NPkVill</td>\n",
       "      <td>...</td>\n",
       "      <td>0</td>\n",
       "      <td>0</td>\n",
       "      <td>0</td>\n",
       "      <td>0</td>\n",
       "      <td>0</td>\n",
       "      <td>2</td>\n",
       "      <td>2007</td>\n",
       "      <td>WD</td>\n",
       "      <td>Normal</td>\n",
       "      <td>128000</td>\n",
       "    </tr>\n",
       "    <tr>\n",
       "      <th>1</th>\n",
       "      <td>20</td>\n",
       "      <td>RL</td>\n",
       "      <td>95.0</td>\n",
       "      <td>15865</td>\n",
       "      <td>Pave</td>\n",
       "      <td>IR1</td>\n",
       "      <td>Lvl</td>\n",
       "      <td>Inside</td>\n",
       "      <td>Mod</td>\n",
       "      <td>NAmes</td>\n",
       "      <td>...</td>\n",
       "      <td>0</td>\n",
       "      <td>0</td>\n",
       "      <td>224</td>\n",
       "      <td>0</td>\n",
       "      <td>0</td>\n",
       "      <td>10</td>\n",
       "      <td>2007</td>\n",
       "      <td>WD</td>\n",
       "      <td>Normal</td>\n",
       "      <td>268000</td>\n",
       "    </tr>\n",
       "  </tbody>\n",
       "</table>\n",
       "<p>2 rows × 74 columns</p>\n",
       "</div>"
      ],
      "text/plain": [
       "   MSSubClass MSZoning  LotFrontage  LotArea Street LotShape LandContour  \\\n",
       "0         120       RL          NaN     4928   Pave      IR1         Lvl   \n",
       "1          20       RL         95.0    15865   Pave      IR1         Lvl   \n",
       "\n",
       "  LotConfig LandSlope Neighborhood  ... EnclosedPorch 3SsnPorch ScreenPorch  \\\n",
       "0    Inside       Gtl      NPkVill  ...             0         0           0   \n",
       "1    Inside       Mod        NAmes  ...             0         0         224   \n",
       "\n",
       "  PoolArea  MiscVal  MoSold  YrSold  SaleType SaleCondition SalePrice  \n",
       "0        0        0       2    2007        WD        Normal    128000  \n",
       "1        0        0      10    2007        WD        Normal    268000  \n",
       "\n",
       "[2 rows x 74 columns]"
      ]
     },
     "execution_count": 19,
     "metadata": {},
     "output_type": "execute_result"
    }
   ],
   "source": [
    "df.head(2)"
   ]
  },
  {
   "cell_type": "code",
   "execution_count": 20,
   "metadata": {},
   "outputs": [],
   "source": [
    "for i in df.columns:\n",
    "    if df[i].dtypes!= \"object\":\n",
    "        df[i]=df[i].fillna(df[i].mean())"
   ]
  },
  {
   "cell_type": "code",
   "execution_count": 21,
   "metadata": {},
   "outputs": [],
   "source": [
    "# replace NaN vales with mode\n",
    "\n",
    "df['GarageCond']=df['GarageCond'].fillna(df['GarageCond'].mode()[0])\n",
    "df['MasVnrType']=df['MasVnrType'].fillna(df['MasVnrType'].mode()[0])\n",
    "df['BsmtExposure']=df['BsmtExposure'].fillna(df['BsmtExposure'].mode()[0])\n",
    "df[\"BsmtQual\"] = df[\"BsmtQual\"].fillna(df[\"BsmtQual\"].mode()[0])\n",
    "df[\"BsmtCond\"] = df[\"BsmtCond\"].fillna(df[\"BsmtCond\"].mode()[0])\n",
    "df[\"BsmtFinType1\"] = df[\"BsmtFinType1\"].fillna(df[\"BsmtFinType1\"].mode()[0])\n",
    "df[\"BsmtFinType2\"] = df[\"BsmtFinType2\"].fillna(df[\"BsmtFinType2\"].mode()[0])\n",
    "df[\"GarageQual\"] = df[\"GarageQual\"].fillna(df[\"GarageQual\"].mode()[0])\n",
    "df[\"GarageCond\"] = df[\"GarageCond\"].fillna(df[\"GarageCond\"].mode()[0])\n",
    "df[\"GarageFinish\"] = df[\"GarageFinish\"].fillna(df[\"GarageFinish\"].mode()[0])\n",
    "df[\"GarageType\"] = df[\"GarageType\"].fillna(df[\"GarageType\"].mode()[0])"
   ]
  },
  {
   "cell_type": "code",
   "execution_count": 22,
   "metadata": {},
   "outputs": [
    {
     "data": {
      "text/plain": [
       "MSSubClass        15\n",
       "MSZoning           5\n",
       "LotFrontage      107\n",
       "LotArea          892\n",
       "Street             2\n",
       "                ... \n",
       "MoSold            12\n",
       "YrSold             5\n",
       "SaleType           9\n",
       "SaleCondition      6\n",
       "SalePrice        581\n",
       "Length: 74, dtype: int64"
      ]
     },
     "execution_count": 22,
     "metadata": {},
     "output_type": "execute_result"
    }
   ],
   "source": [
    "# check unique values in dataset\n",
    "\n",
    "df.apply(lambda x: len(x.unique()))"
   ]
  },
  {
   "cell_type": "markdown",
   "metadata": {},
   "source": [
    "# LabelEncoding"
   ]
  },
  {
   "cell_type": "code",
   "execution_count": 23,
   "metadata": {},
   "outputs": [],
   "source": [
    "from sklearn.preprocessing import LabelEncoder\n",
    "le=LabelEncoder()"
   ]
  },
  {
   "cell_type": "code",
   "execution_count": 24,
   "metadata": {},
   "outputs": [],
   "source": [
    "# encoding the columns which are in string format into numeric format\n",
    "\n",
    "for i in df.columns:\n",
    "    if df[i].dtypes== \"object\":\n",
    "        df[i]=le.fit_transform(df[i].values.reshape(-1,1))"
   ]
  },
  {
   "cell_type": "code",
   "execution_count": 25,
   "metadata": {},
   "outputs": [
    {
     "data": {
      "text/html": [
       "<div>\n",
       "<style scoped>\n",
       "    .dataframe tbody tr th:only-of-type {\n",
       "        vertical-align: middle;\n",
       "    }\n",
       "\n",
       "    .dataframe tbody tr th {\n",
       "        vertical-align: top;\n",
       "    }\n",
       "\n",
       "    .dataframe thead th {\n",
       "        text-align: right;\n",
       "    }\n",
       "</style>\n",
       "<table border=\"1\" class=\"dataframe\">\n",
       "  <thead>\n",
       "    <tr style=\"text-align: right;\">\n",
       "      <th></th>\n",
       "      <th>MSSubClass</th>\n",
       "      <th>MSZoning</th>\n",
       "      <th>LotFrontage</th>\n",
       "      <th>LotArea</th>\n",
       "      <th>Street</th>\n",
       "      <th>LotShape</th>\n",
       "      <th>LandContour</th>\n",
       "      <th>LotConfig</th>\n",
       "      <th>LandSlope</th>\n",
       "      <th>Neighborhood</th>\n",
       "      <th>...</th>\n",
       "      <th>EnclosedPorch</th>\n",
       "      <th>3SsnPorch</th>\n",
       "      <th>ScreenPorch</th>\n",
       "      <th>PoolArea</th>\n",
       "      <th>MiscVal</th>\n",
       "      <th>MoSold</th>\n",
       "      <th>YrSold</th>\n",
       "      <th>SaleType</th>\n",
       "      <th>SaleCondition</th>\n",
       "      <th>SalePrice</th>\n",
       "    </tr>\n",
       "  </thead>\n",
       "  <tbody>\n",
       "    <tr>\n",
       "      <th>0</th>\n",
       "      <td>120</td>\n",
       "      <td>3</td>\n",
       "      <td>70.98847</td>\n",
       "      <td>4928</td>\n",
       "      <td>1</td>\n",
       "      <td>0</td>\n",
       "      <td>3</td>\n",
       "      <td>4</td>\n",
       "      <td>0</td>\n",
       "      <td>13</td>\n",
       "      <td>...</td>\n",
       "      <td>0</td>\n",
       "      <td>0</td>\n",
       "      <td>0</td>\n",
       "      <td>0</td>\n",
       "      <td>0</td>\n",
       "      <td>2</td>\n",
       "      <td>2007</td>\n",
       "      <td>8</td>\n",
       "      <td>4</td>\n",
       "      <td>128000</td>\n",
       "    </tr>\n",
       "    <tr>\n",
       "      <th>1</th>\n",
       "      <td>20</td>\n",
       "      <td>3</td>\n",
       "      <td>95.00000</td>\n",
       "      <td>15865</td>\n",
       "      <td>1</td>\n",
       "      <td>0</td>\n",
       "      <td>3</td>\n",
       "      <td>4</td>\n",
       "      <td>1</td>\n",
       "      <td>12</td>\n",
       "      <td>...</td>\n",
       "      <td>0</td>\n",
       "      <td>0</td>\n",
       "      <td>224</td>\n",
       "      <td>0</td>\n",
       "      <td>0</td>\n",
       "      <td>10</td>\n",
       "      <td>2007</td>\n",
       "      <td>8</td>\n",
       "      <td>4</td>\n",
       "      <td>268000</td>\n",
       "    </tr>\n",
       "    <tr>\n",
       "      <th>2</th>\n",
       "      <td>60</td>\n",
       "      <td>3</td>\n",
       "      <td>92.00000</td>\n",
       "      <td>9920</td>\n",
       "      <td>1</td>\n",
       "      <td>0</td>\n",
       "      <td>3</td>\n",
       "      <td>1</td>\n",
       "      <td>0</td>\n",
       "      <td>15</td>\n",
       "      <td>...</td>\n",
       "      <td>0</td>\n",
       "      <td>0</td>\n",
       "      <td>0</td>\n",
       "      <td>0</td>\n",
       "      <td>0</td>\n",
       "      <td>6</td>\n",
       "      <td>2007</td>\n",
       "      <td>8</td>\n",
       "      <td>4</td>\n",
       "      <td>269790</td>\n",
       "    </tr>\n",
       "    <tr>\n",
       "      <th>3</th>\n",
       "      <td>20</td>\n",
       "      <td>3</td>\n",
       "      <td>105.00000</td>\n",
       "      <td>11751</td>\n",
       "      <td>1</td>\n",
       "      <td>0</td>\n",
       "      <td>3</td>\n",
       "      <td>4</td>\n",
       "      <td>0</td>\n",
       "      <td>14</td>\n",
       "      <td>...</td>\n",
       "      <td>0</td>\n",
       "      <td>0</td>\n",
       "      <td>0</td>\n",
       "      <td>0</td>\n",
       "      <td>0</td>\n",
       "      <td>1</td>\n",
       "      <td>2010</td>\n",
       "      <td>0</td>\n",
       "      <td>4</td>\n",
       "      <td>190000</td>\n",
       "    </tr>\n",
       "    <tr>\n",
       "      <th>4</th>\n",
       "      <td>20</td>\n",
       "      <td>3</td>\n",
       "      <td>70.98847</td>\n",
       "      <td>16635</td>\n",
       "      <td>1</td>\n",
       "      <td>0</td>\n",
       "      <td>3</td>\n",
       "      <td>2</td>\n",
       "      <td>0</td>\n",
       "      <td>14</td>\n",
       "      <td>...</td>\n",
       "      <td>0</td>\n",
       "      <td>0</td>\n",
       "      <td>0</td>\n",
       "      <td>0</td>\n",
       "      <td>0</td>\n",
       "      <td>6</td>\n",
       "      <td>2009</td>\n",
       "      <td>8</td>\n",
       "      <td>4</td>\n",
       "      <td>215000</td>\n",
       "    </tr>\n",
       "  </tbody>\n",
       "</table>\n",
       "<p>5 rows × 74 columns</p>\n",
       "</div>"
      ],
      "text/plain": [
       "   MSSubClass  MSZoning  LotFrontage  LotArea  Street  LotShape  LandContour  \\\n",
       "0         120         3     70.98847     4928       1         0            3   \n",
       "1          20         3     95.00000    15865       1         0            3   \n",
       "2          60         3     92.00000     9920       1         0            3   \n",
       "3          20         3    105.00000    11751       1         0            3   \n",
       "4          20         3     70.98847    16635       1         0            3   \n",
       "\n",
       "   LotConfig  LandSlope  Neighborhood  ...  EnclosedPorch  3SsnPorch  \\\n",
       "0          4          0            13  ...              0          0   \n",
       "1          4          1            12  ...              0          0   \n",
       "2          1          0            15  ...              0          0   \n",
       "3          4          0            14  ...              0          0   \n",
       "4          2          0            14  ...              0          0   \n",
       "\n",
       "   ScreenPorch  PoolArea  MiscVal  MoSold  YrSold  SaleType  SaleCondition  \\\n",
       "0            0         0        0       2    2007         8              4   \n",
       "1          224         0        0      10    2007         8              4   \n",
       "2            0         0        0       6    2007         8              4   \n",
       "3            0         0        0       1    2010         0              4   \n",
       "4            0         0        0       6    2009         8              4   \n",
       "\n",
       "   SalePrice  \n",
       "0     128000  \n",
       "1     268000  \n",
       "2     269790  \n",
       "3     190000  \n",
       "4     215000  \n",
       "\n",
       "[5 rows x 74 columns]"
      ]
     },
     "execution_count": 25,
     "metadata": {},
     "output_type": "execute_result"
    }
   ],
   "source": [
    "df.head(5)"
   ]
  },
  {
   "cell_type": "markdown",
   "metadata": {},
   "source": [
    "We can visualize that all attributes are now in Numeric form only."
   ]
  },
  {
   "cell_type": "markdown",
   "metadata": {},
   "source": [
    "# FINDING CORRELATION"
   ]
  },
  {
   "cell_type": "code",
   "execution_count": 26,
   "metadata": {},
   "outputs": [
    {
     "data": {
      "text/html": [
       "<div>\n",
       "<style scoped>\n",
       "    .dataframe tbody tr th:only-of-type {\n",
       "        vertical-align: middle;\n",
       "    }\n",
       "\n",
       "    .dataframe tbody tr th {\n",
       "        vertical-align: top;\n",
       "    }\n",
       "\n",
       "    .dataframe thead th {\n",
       "        text-align: right;\n",
       "    }\n",
       "</style>\n",
       "<table border=\"1\" class=\"dataframe\">\n",
       "  <thead>\n",
       "    <tr style=\"text-align: right;\">\n",
       "      <th></th>\n",
       "      <th>MSSubClass</th>\n",
       "      <th>MSZoning</th>\n",
       "      <th>LotFrontage</th>\n",
       "      <th>LotArea</th>\n",
       "      <th>Street</th>\n",
       "      <th>LotShape</th>\n",
       "      <th>LandContour</th>\n",
       "      <th>LotConfig</th>\n",
       "      <th>LandSlope</th>\n",
       "      <th>Neighborhood</th>\n",
       "      <th>...</th>\n",
       "      <th>EnclosedPorch</th>\n",
       "      <th>3SsnPorch</th>\n",
       "      <th>ScreenPorch</th>\n",
       "      <th>PoolArea</th>\n",
       "      <th>MiscVal</th>\n",
       "      <th>MoSold</th>\n",
       "      <th>YrSold</th>\n",
       "      <th>SaleType</th>\n",
       "      <th>SaleCondition</th>\n",
       "      <th>SalePrice</th>\n",
       "    </tr>\n",
       "  </thead>\n",
       "  <tbody>\n",
       "    <tr>\n",
       "      <th>MSSubClass</th>\n",
       "      <td>1.000000</td>\n",
       "      <td>0.007478</td>\n",
       "      <td>-0.336681</td>\n",
       "      <td>-0.124151</td>\n",
       "      <td>-0.035981</td>\n",
       "      <td>0.104485</td>\n",
       "      <td>-0.021387</td>\n",
       "      <td>0.076880</td>\n",
       "      <td>-0.014930</td>\n",
       "      <td>0.013918</td>\n",
       "      <td>...</td>\n",
       "      <td>-0.004252</td>\n",
       "      <td>-0.043210</td>\n",
       "      <td>-0.013291</td>\n",
       "      <td>0.009583</td>\n",
       "      <td>-0.023503</td>\n",
       "      <td>-0.016015</td>\n",
       "      <td>-0.038595</td>\n",
       "      <td>0.035050</td>\n",
       "      <td>-0.028981</td>\n",
       "      <td>-0.060775</td>\n",
       "    </tr>\n",
       "    <tr>\n",
       "      <th>MSZoning</th>\n",
       "      <td>0.007478</td>\n",
       "      <td>1.000000</td>\n",
       "      <td>-0.069661</td>\n",
       "      <td>-0.023328</td>\n",
       "      <td>0.140215</td>\n",
       "      <td>0.053655</td>\n",
       "      <td>0.001175</td>\n",
       "      <td>-0.027246</td>\n",
       "      <td>-0.023952</td>\n",
       "      <td>-0.251833</td>\n",
       "      <td>...</td>\n",
       "      <td>0.111221</td>\n",
       "      <td>0.004409</td>\n",
       "      <td>0.030793</td>\n",
       "      <td>-0.001663</td>\n",
       "      <td>0.003416</td>\n",
       "      <td>-0.051646</td>\n",
       "      <td>-0.004964</td>\n",
       "      <td>0.079854</td>\n",
       "      <td>0.004501</td>\n",
       "      <td>-0.133221</td>\n",
       "    </tr>\n",
       "    <tr>\n",
       "      <th>LotFrontage</th>\n",
       "      <td>-0.336681</td>\n",
       "      <td>-0.069661</td>\n",
       "      <td>1.000000</td>\n",
       "      <td>0.299452</td>\n",
       "      <td>-0.035309</td>\n",
       "      <td>-0.144523</td>\n",
       "      <td>-0.073451</td>\n",
       "      <td>-0.192468</td>\n",
       "      <td>0.046051</td>\n",
       "      <td>0.065824</td>\n",
       "      <td>...</td>\n",
       "      <td>0.020902</td>\n",
       "      <td>0.051084</td>\n",
       "      <td>0.030405</td>\n",
       "      <td>0.196001</td>\n",
       "      <td>-0.001329</td>\n",
       "      <td>0.022517</td>\n",
       "      <td>-0.003885</td>\n",
       "      <td>-0.035356</td>\n",
       "      <td>0.065091</td>\n",
       "      <td>0.323779</td>\n",
       "    </tr>\n",
       "    <tr>\n",
       "      <th>LotArea</th>\n",
       "      <td>-0.124151</td>\n",
       "      <td>-0.023328</td>\n",
       "      <td>0.299452</td>\n",
       "      <td>1.000000</td>\n",
       "      <td>-0.263973</td>\n",
       "      <td>-0.189201</td>\n",
       "      <td>-0.159038</td>\n",
       "      <td>-0.152063</td>\n",
       "      <td>0.395410</td>\n",
       "      <td>0.010707</td>\n",
       "      <td>...</td>\n",
       "      <td>-0.007446</td>\n",
       "      <td>0.025794</td>\n",
       "      <td>0.025256</td>\n",
       "      <td>0.097107</td>\n",
       "      <td>0.051679</td>\n",
       "      <td>0.015141</td>\n",
       "      <td>-0.035399</td>\n",
       "      <td>0.005421</td>\n",
       "      <td>0.034236</td>\n",
       "      <td>0.249499</td>\n",
       "    </tr>\n",
       "    <tr>\n",
       "      <th>Street</th>\n",
       "      <td>-0.035981</td>\n",
       "      <td>0.140215</td>\n",
       "      <td>-0.035309</td>\n",
       "      <td>-0.263973</td>\n",
       "      <td>1.000000</td>\n",
       "      <td>-0.012941</td>\n",
       "      <td>0.105226</td>\n",
       "      <td>0.000153</td>\n",
       "      <td>-0.141572</td>\n",
       "      <td>0.001420</td>\n",
       "      <td>...</td>\n",
       "      <td>0.021360</td>\n",
       "      <td>0.007338</td>\n",
       "      <td>0.016026</td>\n",
       "      <td>0.004505</td>\n",
       "      <td>-0.030354</td>\n",
       "      <td>-0.008860</td>\n",
       "      <td>-0.019635</td>\n",
       "      <td>0.025920</td>\n",
       "      <td>0.014176</td>\n",
       "      <td>0.044753</td>\n",
       "    </tr>\n",
       "    <tr>\n",
       "      <th>...</th>\n",
       "      <td>...</td>\n",
       "      <td>...</td>\n",
       "      <td>...</td>\n",
       "      <td>...</td>\n",
       "      <td>...</td>\n",
       "      <td>...</td>\n",
       "      <td>...</td>\n",
       "      <td>...</td>\n",
       "      <td>...</td>\n",
       "      <td>...</td>\n",
       "      <td>...</td>\n",
       "      <td>...</td>\n",
       "      <td>...</td>\n",
       "      <td>...</td>\n",
       "      <td>...</td>\n",
       "      <td>...</td>\n",
       "      <td>...</td>\n",
       "      <td>...</td>\n",
       "      <td>...</td>\n",
       "      <td>...</td>\n",
       "      <td>...</td>\n",
       "    </tr>\n",
       "    <tr>\n",
       "      <th>MoSold</th>\n",
       "      <td>-0.016015</td>\n",
       "      <td>-0.051646</td>\n",
       "      <td>0.022517</td>\n",
       "      <td>0.015141</td>\n",
       "      <td>-0.008860</td>\n",
       "      <td>-0.050418</td>\n",
       "      <td>-0.023872</td>\n",
       "      <td>0.019084</td>\n",
       "      <td>0.030526</td>\n",
       "      <td>0.023378</td>\n",
       "      <td>...</td>\n",
       "      <td>-0.036523</td>\n",
       "      <td>0.020406</td>\n",
       "      <td>0.033064</td>\n",
       "      <td>-0.038624</td>\n",
       "      <td>-0.008773</td>\n",
       "      <td>1.000000</td>\n",
       "      <td>-0.144536</td>\n",
       "      <td>-0.063667</td>\n",
       "      <td>-0.003462</td>\n",
       "      <td>0.072764</td>\n",
       "    </tr>\n",
       "    <tr>\n",
       "      <th>YrSold</th>\n",
       "      <td>-0.038595</td>\n",
       "      <td>-0.004964</td>\n",
       "      <td>-0.003885</td>\n",
       "      <td>-0.035399</td>\n",
       "      <td>-0.019635</td>\n",
       "      <td>0.021421</td>\n",
       "      <td>0.009499</td>\n",
       "      <td>-0.009817</td>\n",
       "      <td>-0.005352</td>\n",
       "      <td>0.026181</td>\n",
       "      <td>...</td>\n",
       "      <td>-0.005767</td>\n",
       "      <td>0.014440</td>\n",
       "      <td>0.017312</td>\n",
       "      <td>-0.066063</td>\n",
       "      <td>-0.008439</td>\n",
       "      <td>-0.144536</td>\n",
       "      <td>1.000000</td>\n",
       "      <td>0.013606</td>\n",
       "      <td>0.024505</td>\n",
       "      <td>-0.045508</td>\n",
       "    </tr>\n",
       "    <tr>\n",
       "      <th>SaleType</th>\n",
       "      <td>0.035050</td>\n",
       "      <td>0.079854</td>\n",
       "      <td>-0.035356</td>\n",
       "      <td>0.005421</td>\n",
       "      <td>0.025920</td>\n",
       "      <td>-0.015161</td>\n",
       "      <td>-0.041763</td>\n",
       "      <td>-0.002039</td>\n",
       "      <td>0.056004</td>\n",
       "      <td>-0.023081</td>\n",
       "      <td>...</td>\n",
       "      <td>-0.008234</td>\n",
       "      <td>-0.013696</td>\n",
       "      <td>0.010760</td>\n",
       "      <td>0.014047</td>\n",
       "      <td>0.015900</td>\n",
       "      <td>-0.063667</td>\n",
       "      <td>0.013606</td>\n",
       "      <td>1.000000</td>\n",
       "      <td>0.143557</td>\n",
       "      <td>-0.050851</td>\n",
       "    </tr>\n",
       "    <tr>\n",
       "      <th>SaleCondition</th>\n",
       "      <td>-0.028981</td>\n",
       "      <td>0.004501</td>\n",
       "      <td>0.065091</td>\n",
       "      <td>0.034236</td>\n",
       "      <td>0.014176</td>\n",
       "      <td>-0.054905</td>\n",
       "      <td>0.047715</td>\n",
       "      <td>0.043692</td>\n",
       "      <td>-0.061461</td>\n",
       "      <td>0.042340</td>\n",
       "      <td>...</td>\n",
       "      <td>-0.091563</td>\n",
       "      <td>0.001236</td>\n",
       "      <td>0.002670</td>\n",
       "      <td>-0.074354</td>\n",
       "      <td>0.012178</td>\n",
       "      <td>-0.003462</td>\n",
       "      <td>0.024505</td>\n",
       "      <td>0.143557</td>\n",
       "      <td>1.000000</td>\n",
       "      <td>0.217687</td>\n",
       "    </tr>\n",
       "    <tr>\n",
       "      <th>SalePrice</th>\n",
       "      <td>-0.060775</td>\n",
       "      <td>-0.133221</td>\n",
       "      <td>0.323779</td>\n",
       "      <td>0.249499</td>\n",
       "      <td>0.044753</td>\n",
       "      <td>-0.248171</td>\n",
       "      <td>0.032836</td>\n",
       "      <td>-0.060452</td>\n",
       "      <td>0.015485</td>\n",
       "      <td>0.198942</td>\n",
       "      <td>...</td>\n",
       "      <td>-0.115004</td>\n",
       "      <td>0.060119</td>\n",
       "      <td>0.100284</td>\n",
       "      <td>0.103280</td>\n",
       "      <td>-0.013071</td>\n",
       "      <td>0.072764</td>\n",
       "      <td>-0.045508</td>\n",
       "      <td>-0.050851</td>\n",
       "      <td>0.217687</td>\n",
       "      <td>1.000000</td>\n",
       "    </tr>\n",
       "  </tbody>\n",
       "</table>\n",
       "<p>74 rows × 74 columns</p>\n",
       "</div>"
      ],
      "text/plain": [
       "               MSSubClass  MSZoning  LotFrontage   LotArea    Street  \\\n",
       "MSSubClass       1.000000  0.007478    -0.336681 -0.124151 -0.035981   \n",
       "MSZoning         0.007478  1.000000    -0.069661 -0.023328  0.140215   \n",
       "LotFrontage     -0.336681 -0.069661     1.000000  0.299452 -0.035309   \n",
       "LotArea         -0.124151 -0.023328     0.299452  1.000000 -0.263973   \n",
       "Street          -0.035981  0.140215    -0.035309 -0.263973  1.000000   \n",
       "...                   ...       ...          ...       ...       ...   \n",
       "MoSold          -0.016015 -0.051646     0.022517  0.015141 -0.008860   \n",
       "YrSold          -0.038595 -0.004964    -0.003885 -0.035399 -0.019635   \n",
       "SaleType         0.035050  0.079854    -0.035356  0.005421  0.025920   \n",
       "SaleCondition   -0.028981  0.004501     0.065091  0.034236  0.014176   \n",
       "SalePrice       -0.060775 -0.133221     0.323779  0.249499  0.044753   \n",
       "\n",
       "               LotShape  LandContour  LotConfig  LandSlope  Neighborhood  ...  \\\n",
       "MSSubClass     0.104485    -0.021387   0.076880  -0.014930      0.013918  ...   \n",
       "MSZoning       0.053655     0.001175  -0.027246  -0.023952     -0.251833  ...   \n",
       "LotFrontage   -0.144523    -0.073451  -0.192468   0.046051      0.065824  ...   \n",
       "LotArea       -0.189201    -0.159038  -0.152063   0.395410      0.010707  ...   \n",
       "Street        -0.012941     0.105226   0.000153  -0.141572      0.001420  ...   \n",
       "...                 ...          ...        ...        ...           ...  ...   \n",
       "MoSold        -0.050418    -0.023872   0.019084   0.030526      0.023378  ...   \n",
       "YrSold         0.021421     0.009499  -0.009817  -0.005352      0.026181  ...   \n",
       "SaleType      -0.015161    -0.041763  -0.002039   0.056004     -0.023081  ...   \n",
       "SaleCondition -0.054905     0.047715   0.043692  -0.061461      0.042340  ...   \n",
       "SalePrice     -0.248171     0.032836  -0.060452   0.015485      0.198942  ...   \n",
       "\n",
       "               EnclosedPorch  3SsnPorch  ScreenPorch  PoolArea   MiscVal  \\\n",
       "MSSubClass         -0.004252  -0.043210    -0.013291  0.009583 -0.023503   \n",
       "MSZoning            0.111221   0.004409     0.030793 -0.001663  0.003416   \n",
       "LotFrontage         0.020902   0.051084     0.030405  0.196001 -0.001329   \n",
       "LotArea            -0.007446   0.025794     0.025256  0.097107  0.051679   \n",
       "Street              0.021360   0.007338     0.016026  0.004505 -0.030354   \n",
       "...                      ...        ...          ...       ...       ...   \n",
       "MoSold             -0.036523   0.020406     0.033064 -0.038624 -0.008773   \n",
       "YrSold             -0.005767   0.014440     0.017312 -0.066063 -0.008439   \n",
       "SaleType           -0.008234  -0.013696     0.010760  0.014047  0.015900   \n",
       "SaleCondition      -0.091563   0.001236     0.002670 -0.074354  0.012178   \n",
       "SalePrice          -0.115004   0.060119     0.100284  0.103280 -0.013071   \n",
       "\n",
       "                 MoSold    YrSold  SaleType  SaleCondition  SalePrice  \n",
       "MSSubClass    -0.016015 -0.038595  0.035050      -0.028981  -0.060775  \n",
       "MSZoning      -0.051646 -0.004964  0.079854       0.004501  -0.133221  \n",
       "LotFrontage    0.022517 -0.003885 -0.035356       0.065091   0.323779  \n",
       "LotArea        0.015141 -0.035399  0.005421       0.034236   0.249499  \n",
       "Street        -0.008860 -0.019635  0.025920       0.014176   0.044753  \n",
       "...                 ...       ...       ...            ...        ...  \n",
       "MoSold         1.000000 -0.144536 -0.063667      -0.003462   0.072764  \n",
       "YrSold        -0.144536  1.000000  0.013606       0.024505  -0.045508  \n",
       "SaleType      -0.063667  0.013606  1.000000       0.143557  -0.050851  \n",
       "SaleCondition -0.003462  0.024505  0.143557       1.000000   0.217687  \n",
       "SalePrice      0.072764 -0.045508 -0.050851       0.217687   1.000000  \n",
       "\n",
       "[74 rows x 74 columns]"
      ]
     },
     "execution_count": 26,
     "metadata": {},
     "output_type": "execute_result"
    }
   ],
   "source": [
    "corr= df.corr()\n",
    "corr"
   ]
  },
  {
   "cell_type": "code",
   "execution_count": 27,
   "metadata": {},
   "outputs": [
    {
     "data": {
      "text/plain": [
       "SalePrice       1.000000\n",
       "OverallQual     0.789185\n",
       "GrLivArea       0.707300\n",
       "GarageCars      0.628329\n",
       "GarageArea      0.619000\n",
       "                  ...   \n",
       "HeatingQC      -0.406604\n",
       "GarageFinish   -0.537121\n",
       "KitchenQual    -0.592468\n",
       "ExterQual      -0.624820\n",
       "BsmtQual       -0.626850\n",
       "Name: SalePrice, Length: 74, dtype: float64"
      ]
     },
     "execution_count": 27,
     "metadata": {},
     "output_type": "execute_result"
    }
   ],
   "source": [
    "corr_matrix=df.corr()\n",
    "corr_matrix[\"SalePrice\"].sort_values(ascending=False)"
   ]
  },
  {
   "cell_type": "code",
   "execution_count": 28,
   "metadata": {},
   "outputs": [
    {
     "data": {
      "text/plain": [
       "<function matplotlib.pyplot.show(*args, **kw)>"
      ]
     },
     "execution_count": 28,
     "metadata": {},
     "output_type": "execute_result"
    },
    {
     "data": {
      "image/png": "[encoded data removed]",
      "text/plain": [
       "<Figure size 1584x504 with 1 Axes>"
      ]
     },
     "metadata": {},
     "output_type": "display_data"
    }
   ],
   "source": [
    "plt.figure(figsize=(22,7))\n",
    "df.corr()[\"SalePrice\"].sort_values(ascending=False).drop([\"SalePrice\"]).plot(kind=\"bar\",color=\"c\")\n",
    "plt.xlabel(\"Features\",fontsize=14)\n",
    "plt.ylabel(\"Columns with target names\", fontsize=14)\n",
    "plt.title(\"correlation\",fontsize=18)\n",
    "plt.show"
   ]
  },
  {
   "cell_type": "markdown",
   "metadata": {},
   "source": [
    "We can see that left side varaibles have srtrong positive relationship with our target varaible i.e. salePrice."
   ]
  },
  {
   "cell_type": "markdown",
   "metadata": {},
   "source": [
    "OverallQual has a very strong positive relation with sale price of house."
   ]
  },
  {
   "cell_type": "markdown",
   "metadata": {},
   "source": [
    "# Treating Outliers"
   ]
  },
  {
   "cell_type": "code",
   "execution_count": 29,
   "metadata": {},
   "outputs": [
    {
     "data": {
      "text/plain": [
       "(array([   1,    1,    1, ..., 1166, 1166, 1166], dtype=int64),\n",
       " array([ 8, 19, 33, ..., 38, 60, 61], dtype=int64))"
      ]
     },
     "execution_count": 29,
     "metadata": {},
     "output_type": "execute_result"
    }
   ],
   "source": [
    "from scipy.stats import zscore\n",
    "z= np.abs(zscore(df))\n",
    "threshold=3\n",
    "np.where(z>3)"
   ]
  },
  {
   "cell_type": "code",
   "execution_count": 30,
   "metadata": {
    "scrolled": false
   },
   "outputs": [
    {
     "data": {
      "text/html": [
       "<div>\n",
       "<style scoped>\n",
       "    .dataframe tbody tr th:only-of-type {\n",
       "        vertical-align: middle;\n",
       "    }\n",
       "\n",
       "    .dataframe tbody tr th {\n",
       "        vertical-align: top;\n",
       "    }\n",
       "\n",
       "    .dataframe thead th {\n",
       "        text-align: right;\n",
       "    }\n",
       "</style>\n",
       "<table border=\"1\" class=\"dataframe\">\n",
       "  <thead>\n",
       "    <tr style=\"text-align: right;\">\n",
       "      <th></th>\n",
       "      <th>MSSubClass</th>\n",
       "      <th>MSZoning</th>\n",
       "      <th>LotFrontage</th>\n",
       "      <th>LotArea</th>\n",
       "      <th>Street</th>\n",
       "      <th>LotShape</th>\n",
       "      <th>LandContour</th>\n",
       "      <th>LotConfig</th>\n",
       "      <th>LandSlope</th>\n",
       "      <th>Neighborhood</th>\n",
       "      <th>...</th>\n",
       "      <th>EnclosedPorch</th>\n",
       "      <th>3SsnPorch</th>\n",
       "      <th>ScreenPorch</th>\n",
       "      <th>PoolArea</th>\n",
       "      <th>MiscVal</th>\n",
       "      <th>MoSold</th>\n",
       "      <th>YrSold</th>\n",
       "      <th>SaleType</th>\n",
       "      <th>SaleCondition</th>\n",
       "      <th>SalePrice</th>\n",
       "    </tr>\n",
       "  </thead>\n",
       "  <tbody>\n",
       "    <tr>\n",
       "      <th>0</th>\n",
       "      <td>120</td>\n",
       "      <td>3</td>\n",
       "      <td>70.98847</td>\n",
       "      <td>4928</td>\n",
       "      <td>1</td>\n",
       "      <td>0</td>\n",
       "      <td>3</td>\n",
       "      <td>4</td>\n",
       "      <td>0</td>\n",
       "      <td>13</td>\n",
       "      <td>...</td>\n",
       "      <td>0</td>\n",
       "      <td>0</td>\n",
       "      <td>0</td>\n",
       "      <td>0</td>\n",
       "      <td>0</td>\n",
       "      <td>2</td>\n",
       "      <td>2007</td>\n",
       "      <td>8</td>\n",
       "      <td>4</td>\n",
       "      <td>128000</td>\n",
       "    </tr>\n",
       "    <tr>\n",
       "      <th>2</th>\n",
       "      <td>60</td>\n",
       "      <td>3</td>\n",
       "      <td>92.00000</td>\n",
       "      <td>9920</td>\n",
       "      <td>1</td>\n",
       "      <td>0</td>\n",
       "      <td>3</td>\n",
       "      <td>1</td>\n",
       "      <td>0</td>\n",
       "      <td>15</td>\n",
       "      <td>...</td>\n",
       "      <td>0</td>\n",
       "      <td>0</td>\n",
       "      <td>0</td>\n",
       "      <td>0</td>\n",
       "      <td>0</td>\n",
       "      <td>6</td>\n",
       "      <td>2007</td>\n",
       "      <td>8</td>\n",
       "      <td>4</td>\n",
       "      <td>269790</td>\n",
       "    </tr>\n",
       "    <tr>\n",
       "      <th>5</th>\n",
       "      <td>60</td>\n",
       "      <td>3</td>\n",
       "      <td>58.00000</td>\n",
       "      <td>14054</td>\n",
       "      <td>1</td>\n",
       "      <td>0</td>\n",
       "      <td>3</td>\n",
       "      <td>4</td>\n",
       "      <td>0</td>\n",
       "      <td>8</td>\n",
       "      <td>...</td>\n",
       "      <td>0</td>\n",
       "      <td>0</td>\n",
       "      <td>0</td>\n",
       "      <td>0</td>\n",
       "      <td>0</td>\n",
       "      <td>11</td>\n",
       "      <td>2006</td>\n",
       "      <td>6</td>\n",
       "      <td>5</td>\n",
       "      <td>219210</td>\n",
       "    </tr>\n",
       "    <tr>\n",
       "      <th>6</th>\n",
       "      <td>20</td>\n",
       "      <td>3</td>\n",
       "      <td>70.98847</td>\n",
       "      <td>11341</td>\n",
       "      <td>1</td>\n",
       "      <td>0</td>\n",
       "      <td>3</td>\n",
       "      <td>4</td>\n",
       "      <td>0</td>\n",
       "      <td>19</td>\n",
       "      <td>...</td>\n",
       "      <td>0</td>\n",
       "      <td>0</td>\n",
       "      <td>95</td>\n",
       "      <td>0</td>\n",
       "      <td>0</td>\n",
       "      <td>5</td>\n",
       "      <td>2010</td>\n",
       "      <td>8</td>\n",
       "      <td>4</td>\n",
       "      <td>121500</td>\n",
       "    </tr>\n",
       "    <tr>\n",
       "      <th>11</th>\n",
       "      <td>60</td>\n",
       "      <td>3</td>\n",
       "      <td>44.00000</td>\n",
       "      <td>9548</td>\n",
       "      <td>1</td>\n",
       "      <td>0</td>\n",
       "      <td>3</td>\n",
       "      <td>1</td>\n",
       "      <td>0</td>\n",
       "      <td>5</td>\n",
       "      <td>...</td>\n",
       "      <td>0</td>\n",
       "      <td>0</td>\n",
       "      <td>0</td>\n",
       "      <td>0</td>\n",
       "      <td>0</td>\n",
       "      <td>1</td>\n",
       "      <td>2010</td>\n",
       "      <td>8</td>\n",
       "      <td>4</td>\n",
       "      <td>237000</td>\n",
       "    </tr>\n",
       "    <tr>\n",
       "      <th>...</th>\n",
       "      <td>...</td>\n",
       "      <td>...</td>\n",
       "      <td>...</td>\n",
       "      <td>...</td>\n",
       "      <td>...</td>\n",
       "      <td>...</td>\n",
       "      <td>...</td>\n",
       "      <td>...</td>\n",
       "      <td>...</td>\n",
       "      <td>...</td>\n",
       "      <td>...</td>\n",
       "      <td>...</td>\n",
       "      <td>...</td>\n",
       "      <td>...</td>\n",
       "      <td>...</td>\n",
       "      <td>...</td>\n",
       "      <td>...</td>\n",
       "      <td>...</td>\n",
       "      <td>...</td>\n",
       "      <td>...</td>\n",
       "      <td>...</td>\n",
       "    </tr>\n",
       "    <tr>\n",
       "      <th>1158</th>\n",
       "      <td>20</td>\n",
       "      <td>3</td>\n",
       "      <td>70.98847</td>\n",
       "      <td>11250</td>\n",
       "      <td>1</td>\n",
       "      <td>0</td>\n",
       "      <td>3</td>\n",
       "      <td>4</td>\n",
       "      <td>0</td>\n",
       "      <td>24</td>\n",
       "      <td>...</td>\n",
       "      <td>0</td>\n",
       "      <td>0</td>\n",
       "      <td>0</td>\n",
       "      <td>0</td>\n",
       "      <td>0</td>\n",
       "      <td>6</td>\n",
       "      <td>2006</td>\n",
       "      <td>8</td>\n",
       "      <td>4</td>\n",
       "      <td>165000</td>\n",
       "    </tr>\n",
       "    <tr>\n",
       "      <th>1161</th>\n",
       "      <td>60</td>\n",
       "      <td>3</td>\n",
       "      <td>70.98847</td>\n",
       "      <td>10762</td>\n",
       "      <td>1</td>\n",
       "      <td>0</td>\n",
       "      <td>3</td>\n",
       "      <td>1</td>\n",
       "      <td>0</td>\n",
       "      <td>8</td>\n",
       "      <td>...</td>\n",
       "      <td>0</td>\n",
       "      <td>0</td>\n",
       "      <td>0</td>\n",
       "      <td>0</td>\n",
       "      <td>0</td>\n",
       "      <td>5</td>\n",
       "      <td>2009</td>\n",
       "      <td>8</td>\n",
       "      <td>4</td>\n",
       "      <td>225000</td>\n",
       "    </tr>\n",
       "    <tr>\n",
       "      <th>1163</th>\n",
       "      <td>20</td>\n",
       "      <td>3</td>\n",
       "      <td>70.98847</td>\n",
       "      <td>9819</td>\n",
       "      <td>1</td>\n",
       "      <td>0</td>\n",
       "      <td>3</td>\n",
       "      <td>4</td>\n",
       "      <td>0</td>\n",
       "      <td>19</td>\n",
       "      <td>...</td>\n",
       "      <td>0</td>\n",
       "      <td>0</td>\n",
       "      <td>0</td>\n",
       "      <td>0</td>\n",
       "      <td>0</td>\n",
       "      <td>2</td>\n",
       "      <td>2010</td>\n",
       "      <td>8</td>\n",
       "      <td>4</td>\n",
       "      <td>122000</td>\n",
       "    </tr>\n",
       "    <tr>\n",
       "      <th>1165</th>\n",
       "      <td>160</td>\n",
       "      <td>3</td>\n",
       "      <td>24.00000</td>\n",
       "      <td>2280</td>\n",
       "      <td>1</td>\n",
       "      <td>3</td>\n",
       "      <td>3</td>\n",
       "      <td>2</td>\n",
       "      <td>0</td>\n",
       "      <td>13</td>\n",
       "      <td>...</td>\n",
       "      <td>0</td>\n",
       "      <td>0</td>\n",
       "      <td>0</td>\n",
       "      <td>0</td>\n",
       "      <td>0</td>\n",
       "      <td>7</td>\n",
       "      <td>2009</td>\n",
       "      <td>8</td>\n",
       "      <td>4</td>\n",
       "      <td>148500</td>\n",
       "    </tr>\n",
       "    <tr>\n",
       "      <th>1167</th>\n",
       "      <td>60</td>\n",
       "      <td>3</td>\n",
       "      <td>70.98847</td>\n",
       "      <td>7861</td>\n",
       "      <td>1</td>\n",
       "      <td>0</td>\n",
       "      <td>3</td>\n",
       "      <td>4</td>\n",
       "      <td>0</td>\n",
       "      <td>8</td>\n",
       "      <td>...</td>\n",
       "      <td>0</td>\n",
       "      <td>0</td>\n",
       "      <td>0</td>\n",
       "      <td>0</td>\n",
       "      <td>0</td>\n",
       "      <td>6</td>\n",
       "      <td>2006</td>\n",
       "      <td>8</td>\n",
       "      <td>4</td>\n",
       "      <td>183200</td>\n",
       "    </tr>\n",
       "  </tbody>\n",
       "</table>\n",
       "<p>482 rows × 74 columns</p>\n",
       "</div>"
      ],
      "text/plain": [
       "      MSSubClass  MSZoning  LotFrontage  LotArea  Street  LotShape  \\\n",
       "0            120         3     70.98847     4928       1         0   \n",
       "2             60         3     92.00000     9920       1         0   \n",
       "5             60         3     58.00000    14054       1         0   \n",
       "6             20         3     70.98847    11341       1         0   \n",
       "11            60         3     44.00000     9548       1         0   \n",
       "...          ...       ...          ...      ...     ...       ...   \n",
       "1158          20         3     70.98847    11250       1         0   \n",
       "1161          60         3     70.98847    10762       1         0   \n",
       "1163          20         3     70.98847     9819       1         0   \n",
       "1165         160         3     24.00000     2280       1         3   \n",
       "1167          60         3     70.98847     7861       1         0   \n",
       "\n",
       "      LandContour  LotConfig  LandSlope  Neighborhood  ...  EnclosedPorch  \\\n",
       "0               3          4          0            13  ...              0   \n",
       "2               3          1          0            15  ...              0   \n",
       "5               3          4          0             8  ...              0   \n",
       "6               3          4          0            19  ...              0   \n",
       "11              3          1          0             5  ...              0   \n",
       "...           ...        ...        ...           ...  ...            ...   \n",
       "1158            3          4          0            24  ...              0   \n",
       "1161            3          1          0             8  ...              0   \n",
       "1163            3          4          0            19  ...              0   \n",
       "1165            3          2          0            13  ...              0   \n",
       "1167            3          4          0             8  ...              0   \n",
       "\n",
       "      3SsnPorch  ScreenPorch  PoolArea  MiscVal  MoSold  YrSold  SaleType  \\\n",
       "0             0            0         0        0       2    2007         8   \n",
       "2             0            0         0        0       6    2007         8   \n",
       "5             0            0         0        0      11    2006         6   \n",
       "6             0           95         0        0       5    2010         8   \n",
       "11            0            0         0        0       1    2010         8   \n",
       "...         ...          ...       ...      ...     ...     ...       ...   \n",
       "1158          0            0         0        0       6    2006         8   \n",
       "1161          0            0         0        0       5    2009         8   \n",
       "1163          0            0         0        0       2    2010         8   \n",
       "1165          0            0         0        0       7    2009         8   \n",
       "1167          0            0         0        0       6    2006         8   \n",
       "\n",
       "      SaleCondition  SalePrice  \n",
       "0                 4     128000  \n",
       "2                 4     269790  \n",
       "5                 5     219210  \n",
       "6                 4     121500  \n",
       "11                4     237000  \n",
       "...             ...        ...  \n",
       "1158              4     165000  \n",
       "1161              4     225000  \n",
       "1163              4     122000  \n",
       "1165              4     148500  \n",
       "1167              4     183200  \n",
       "\n",
       "[482 rows x 74 columns]"
      ]
     },
     "execution_count": 30,
     "metadata": {},
     "output_type": "execute_result"
    }
   ],
   "source": [
    "df_new_z=df[(z<3).all(axis=1)]\n",
    "df_new_z"
   ]
  },
  {
   "cell_type": "code",
   "execution_count": 31,
   "metadata": {},
   "outputs": [
    {
     "data": {
      "text/plain": [
       "(482, 74)"
      ]
     },
     "execution_count": 31,
     "metadata": {},
     "output_type": "execute_result"
    }
   ],
   "source": [
    "df_new_z.shape"
   ]
  },
  {
   "cell_type": "code",
   "execution_count": 32,
   "metadata": {},
   "outputs": [
    {
     "data": {
      "text/plain": [
       "(1168, 74)"
      ]
     },
     "execution_count": 32,
     "metadata": {},
     "output_type": "execute_result"
    }
   ],
   "source": [
    "df.shape"
   ]
  },
  {
   "cell_type": "code",
   "execution_count": 33,
   "metadata": {},
   "outputs": [],
   "source": [
    "Data_loss=((1168-482)/1168)*100"
   ]
  },
  {
   "cell_type": "code",
   "execution_count": 34,
   "metadata": {},
   "outputs": [
    {
     "data": {
      "text/plain": [
       "58.73287671232876"
      ]
     },
     "execution_count": 34,
     "metadata": {},
     "output_type": "execute_result"
    }
   ],
   "source": [
    "Data_loss"
   ]
  },
  {
   "cell_type": "markdown",
   "metadata": {},
   "source": [
    "We will loss our 59% of data with z-score. It will give baised predictions. we cannot afford to loss such a huge data.\n",
    "\n",
    "We will continue with our previous dataset."
   ]
  },
  {
   "cell_type": "markdown",
   "metadata": {},
   "source": [
    "# Splitting the data into X(INDEPENDENT VAR) & Y(DEPENDENT VAR)"
   ]
  },
  {
   "cell_type": "code",
   "execution_count": 35,
   "metadata": {},
   "outputs": [],
   "source": [
    "x= df.drop(\"SalePrice\",axis=1)     # independent variable\n",
    "y= df[\"SalePrice\"]                 # dependent variable"
   ]
  },
  {
   "cell_type": "code",
   "execution_count": 36,
   "metadata": {},
   "outputs": [
    {
     "data": {
      "text/plain": [
       "73"
      ]
     },
     "execution_count": 36,
     "metadata": {},
     "output_type": "execute_result"
    }
   ],
   "source": [
    "x.columns.size"
   ]
  },
  {
   "cell_type": "code",
   "execution_count": 37,
   "metadata": {},
   "outputs": [
    {
     "data": {
      "text/plain": [
       "Index(['MSSubClass', 'MSZoning', 'LotFrontage', 'LotArea', 'Street',\n",
       "       'LotShape', 'LandContour', 'LotConfig', 'LandSlope', 'Neighborhood',\n",
       "       'Condition1', 'Condition2', 'BldgType', 'HouseStyle', 'OverallQual',\n",
       "       'OverallCond', 'YearBuilt', 'YearRemodAdd', 'RoofStyle', 'RoofMatl',\n",
       "       'Exterior1st', 'Exterior2nd', 'MasVnrType', 'MasVnrArea', 'ExterQual',\n",
       "       'ExterCond', 'Foundation', 'BsmtQual', 'BsmtCond', 'BsmtExposure',\n",
       "       'BsmtFinType1', 'BsmtFinSF1', 'BsmtFinType2', 'BsmtFinSF2', 'BsmtUnfSF',\n",
       "       'TotalBsmtSF', 'Heating', 'HeatingQC', 'CentralAir', 'Electrical',\n",
       "       '1stFlrSF', '2ndFlrSF', 'LowQualFinSF', 'GrLivArea', 'BsmtFullBath',\n",
       "       'BsmtHalfBath', 'FullBath', 'HalfBath', 'BedroomAbvGr', 'KitchenAbvGr',\n",
       "       'KitchenQual', 'TotRmsAbvGrd', 'Functional', 'Fireplaces', 'GarageType',\n",
       "       'GarageYrBlt', 'GarageFinish', 'GarageCars', 'GarageArea', 'GarageQual',\n",
       "       'GarageCond', 'PavedDrive', 'WoodDeckSF', 'OpenPorchSF',\n",
       "       'EnclosedPorch', '3SsnPorch', 'ScreenPorch', 'PoolArea', 'MiscVal',\n",
       "       'MoSold', 'YrSold', 'SaleType', 'SaleCondition'],\n",
       "      dtype='object')"
      ]
     },
     "execution_count": 37,
     "metadata": {},
     "output_type": "execute_result"
    }
   ],
   "source": [
    "x.columns"
   ]
  },
  {
   "cell_type": "markdown",
   "metadata": {},
   "source": [
    "# SKEWNESS"
   ]
  },
  {
   "cell_type": "code",
   "execution_count": 38,
   "metadata": {},
   "outputs": [
    {
     "data": {
      "text/plain": [
       "MSSubClass        1.422019\n",
       "MSZoning         -1.796785\n",
       "LotFrontage       2.710383\n",
       "LotArea          10.659285\n",
       "Street          -17.021969\n",
       "                   ...    \n",
       "MiscVal          23.065943\n",
       "MoSold            0.220979\n",
       "YrSold            0.115765\n",
       "SaleType         -3.660513\n",
       "SaleCondition    -2.671829\n",
       "Length: 73, dtype: float64"
      ]
     },
     "execution_count": 38,
     "metadata": {},
     "output_type": "execute_result"
    }
   ],
   "source": [
    "x.skew()"
   ]
  },
  {
   "cell_type": "code",
   "execution_count": 39,
   "metadata": {},
   "outputs": [],
   "source": [
    "from sklearn.preprocessing import power_transform\n",
    "x_new=power_transform(x)\n",
    "\n",
    "x_new=pd.DataFrame(x_new,columns=x.columns)"
   ]
  },
  {
   "cell_type": "markdown",
   "metadata": {},
   "source": [
    "# SCALING"
   ]
  },
  {
   "cell_type": "code",
   "execution_count": 40,
   "metadata": {},
   "outputs": [],
   "source": [
    "from sklearn.preprocessing import MinMaxScaler\n",
    "\n",
    "scaler= MinMaxScaler()\n",
    "\n",
    "x_new=pd.DataFrame(scaler.fit_transform(x), columns= x_new.columns)"
   ]
  },
  {
   "cell_type": "markdown",
   "metadata": {},
   "source": [
    "all the train data columns are in range 0-1.\n",
    "\n",
    "our predictions will be more accurate now."
   ]
  },
  {
   "cell_type": "markdown",
   "metadata": {},
   "source": [
    "# FINDING BEST RANDOM STATE"
   ]
  },
  {
   "cell_type": "code",
   "execution_count": 41,
   "metadata": {},
   "outputs": [
    {
     "name": "stdout",
     "output_type": "stream",
     "text": [
      "Best accuracy is 0.8788418765460277 on Random_state 49\n"
     ]
    }
   ],
   "source": [
    "from sklearn.model_selection import train_test_split\n",
    "from sklearn.linear_model import LinearRegression\n",
    "from sklearn.metrics import r2_score\n",
    "maxAccu=0\n",
    "maxRS=0\n",
    "\n",
    "for i in range (1,100):\n",
    "    x_train,x_test,y_train,y_test= train_test_split(x_new,y,test_size=.20, random_state=i)\n",
    "    LR= LinearRegression()\n",
    "    LR.fit(x_train,y_train)\n",
    "    predrf=LR.predict(x_test)\n",
    "    acc=r2_score(y_test,predrf)\n",
    "    if acc>maxAccu:\n",
    "        maxAccu=acc\n",
    "        maxRS=i\n",
    "print(\"Best accuracy is\",maxAccu,\"on Random_state\", maxRS)"
   ]
  },
  {
   "cell_type": "markdown",
   "metadata": {},
   "source": [
    "# Finding best algorithm for our model:"
   ]
  },
  {
   "cell_type": "code",
   "execution_count": 42,
   "metadata": {},
   "outputs": [],
   "source": [
    "from sklearn.svm import SVR\n",
    "from sklearn.neighbors import KNeighborsRegressor\n",
    "from sklearn.ensemble import RandomForestRegressor\n",
    "from sklearn.tree import DecisionTreeRegressor\n",
    "from sklearn.ensemble import AdaBoostRegressor"
   ]
  },
  {
   "cell_type": "code",
   "execution_count": 43,
   "metadata": {},
   "outputs": [],
   "source": [
    "LR= LinearRegression()\n",
    "knn = KNeighborsRegressor()\n",
    "dt = DecisionTreeRegressor()\n",
    "rf = RandomForestRegressor()\n",
    "ad= AdaBoostRegressor()\n",
    "svr= SVR()"
   ]
  },
  {
   "cell_type": "code",
   "execution_count": 44,
   "metadata": {},
   "outputs": [
    {
     "name": "stdout",
     "output_type": "stream",
     "text": [
      "r2_score LinearRegression() = 0.8788418765460277\n",
      "r2_score KNeighborsRegressor() = 0.76782144479754\n",
      "r2_score DecisionTreeRegressor() = 0.7715329793580774\n",
      "r2_score RandomForestRegressor() = 0.8863806733952591\n",
      "r2_score AdaBoostRegressor() = 0.8061650069148808\n",
      "r2_score SVR() = -0.04389742655833828\n"
     ]
    }
   ],
   "source": [
    "x_train,x_test,y_train,y_test= train_test_split(x_new,y,test_size=.20, random_state=49)\n",
    "for i in (LR,knn, dt, rf,ad,svr):\n",
    "    i.fit(x_train, y_train)\n",
    "    \n",
    "    pred = i.predict(x_test)\n",
    "    \n",
    "    print(\"r2_score\",i,\"=\", r2_score(y_test,pred))"
   ]
  },
  {
   "cell_type": "markdown",
   "metadata": {},
   "source": [
    "# CROSS_VALIDATION_SCORE"
   ]
  },
  {
   "cell_type": "code",
   "execution_count": 45,
   "metadata": {},
   "outputs": [],
   "source": [
    "from sklearn.model_selection import cross_val_score"
   ]
  },
  {
   "cell_type": "code",
   "execution_count": 46,
   "metadata": {},
   "outputs": [
    {
     "name": "stdout",
     "output_type": "stream",
     "text": [
      "cross validation score LinearRegression() = 0.7415366569554174\n",
      "cross validation score KNeighborsRegressor() = 0.6146961229668827\n",
      "cross validation score DecisionTreeRegressor() = 0.7012216335618362\n",
      "cross validation score RandomForestRegressor() = 0.8419939876369481\n",
      "cross validation score AdaBoostRegressor() = 0.7986346953233634\n",
      "cross validation score SVR() = -0.062134440998616515\n"
     ]
    }
   ],
   "source": [
    "x_train,x_test,y_train,y_test= train_test_split(x_new,y,test_size=.20, random_state=49)\n",
    "for i in (LR,knn, dt, rf,ad,svr):\n",
    "    scr=cross_val_score(i,x,y,cv=5)\n",
    "    print(\"cross validation score\",i,\"=\", scr.mean())"
   ]
  },
  {
   "cell_type": "markdown",
   "metadata": {},
   "source": [
    "The minimum differnce between r2_score & cross_Val_Score is in RandomForestRegressor.\n",
    "\n",
    "Therefore, we will do prediction on RandomForestRegressor as it is giving the highest accuracy to our model."
   ]
  },
  {
   "cell_type": "markdown",
   "metadata": {},
   "source": [
    "# Hyperparameter tunning with best model"
   ]
  },
  {
   "cell_type": "code",
   "execution_count": 47,
   "metadata": {},
   "outputs": [],
   "source": [
    "from sklearn.model_selection import GridSearchCV"
   ]
  },
  {
   "cell_type": "code",
   "execution_count": 48,
   "metadata": {},
   "outputs": [
    {
     "name": "stdout",
     "output_type": "stream",
     "text": [
      "{'criterion': 'mae', 'max_features': 'log2'}\n"
     ]
    }
   ],
   "source": [
    "parameters = {'criterion':('mse', 'mae'), \"max_features\":[\"auto\",\"sqrt\",\"log2\"]}\n",
    "rf=RandomForestRegressor()\n",
    "rf.fit(x_train,y_train)\n",
    "clf=GridSearchCV(rf,parameters)\n",
    "clf.fit(x_train,y_train)\n",
    "\n",
    "print(clf.best_params_)"
   ]
  },
  {
   "cell_type": "code",
   "execution_count": 49,
   "metadata": {},
   "outputs": [],
   "source": [
    "clf_pred=clf.best_estimator_.predict(x_test)"
   ]
  },
  {
   "cell_type": "code",
   "execution_count": 50,
   "metadata": {},
   "outputs": [
    {
     "data": {
      "text/plain": [
       "0.8764863756483472"
      ]
     },
     "execution_count": 50,
     "metadata": {},
     "output_type": "execute_result"
    }
   ],
   "source": [
    "r2_score(y_test,clf_pred)"
   ]
  },
  {
   "cell_type": "code",
   "execution_count": 51,
   "metadata": {},
   "outputs": [],
   "source": [
    "rf=RandomForestRegressor( criterion='mae',  max_features='sqrt',  random_state=49)"
   ]
  },
  {
   "cell_type": "code",
   "execution_count": 52,
   "metadata": {},
   "outputs": [
    {
     "data": {
      "text/plain": [
       "RandomForestRegressor(criterion='mae', max_features='sqrt', random_state=49)"
      ]
     },
     "execution_count": 52,
     "metadata": {},
     "output_type": "execute_result"
    }
   ],
   "source": [
    "rf.fit(x_train,y_train)"
   ]
  },
  {
   "cell_type": "markdown",
   "metadata": {},
   "source": [
    "# SAVING OUR MODEL"
   ]
  },
  {
   "cell_type": "code",
   "execution_count": 53,
   "metadata": {},
   "outputs": [],
   "source": [
    "import pickle\n",
    "filename= \"HousingProject_rf.pkl\"\n",
    "pickle.dump(rf,open(filename,\"wb\"))"
   ]
  },
  {
   "cell_type": "markdown",
   "metadata": {},
   "source": [
    "# USING THE TEST DATA"
   ]
  },
  {
   "cell_type": "code",
   "execution_count": 54,
   "metadata": {},
   "outputs": [],
   "source": [
    "#loading the test data\n",
    "\n",
    "df_test = pd.read_csv(\"test HousingProject.csv\")"
   ]
  },
  {
   "cell_type": "code",
   "execution_count": 55,
   "metadata": {},
   "outputs": [
    {
     "data": {
      "text/html": [
       "<div>\n",
       "<style scoped>\n",
       "    .dataframe tbody tr th:only-of-type {\n",
       "        vertical-align: middle;\n",
       "    }\n",
       "\n",
       "    .dataframe tbody tr th {\n",
       "        vertical-align: top;\n",
       "    }\n",
       "\n",
       "    .dataframe thead th {\n",
       "        text-align: right;\n",
       "    }\n",
       "</style>\n",
       "<table border=\"1\" class=\"dataframe\">\n",
       "  <thead>\n",
       "    <tr style=\"text-align: right;\">\n",
       "      <th></th>\n",
       "      <th>Id</th>\n",
       "      <th>MSSubClass</th>\n",
       "      <th>MSZoning</th>\n",
       "      <th>LotFrontage</th>\n",
       "      <th>LotArea</th>\n",
       "      <th>Street</th>\n",
       "      <th>Alley</th>\n",
       "      <th>LotShape</th>\n",
       "      <th>LandContour</th>\n",
       "      <th>Utilities</th>\n",
       "      <th>...</th>\n",
       "      <th>ScreenPorch</th>\n",
       "      <th>PoolArea</th>\n",
       "      <th>PoolQC</th>\n",
       "      <th>Fence</th>\n",
       "      <th>MiscFeature</th>\n",
       "      <th>MiscVal</th>\n",
       "      <th>MoSold</th>\n",
       "      <th>YrSold</th>\n",
       "      <th>SaleType</th>\n",
       "      <th>SaleCondition</th>\n",
       "    </tr>\n",
       "  </thead>\n",
       "  <tbody>\n",
       "    <tr>\n",
       "      <th>0</th>\n",
       "      <td>337</td>\n",
       "      <td>20</td>\n",
       "      <td>RL</td>\n",
       "      <td>86.0</td>\n",
       "      <td>14157</td>\n",
       "      <td>Pave</td>\n",
       "      <td>NaN</td>\n",
       "      <td>IR1</td>\n",
       "      <td>HLS</td>\n",
       "      <td>AllPub</td>\n",
       "      <td>...</td>\n",
       "      <td>0</td>\n",
       "      <td>0</td>\n",
       "      <td>NaN</td>\n",
       "      <td>NaN</td>\n",
       "      <td>NaN</td>\n",
       "      <td>0</td>\n",
       "      <td>7</td>\n",
       "      <td>2007</td>\n",
       "      <td>WD</td>\n",
       "      <td>Normal</td>\n",
       "    </tr>\n",
       "    <tr>\n",
       "      <th>1</th>\n",
       "      <td>1018</td>\n",
       "      <td>120</td>\n",
       "      <td>RL</td>\n",
       "      <td>NaN</td>\n",
       "      <td>5814</td>\n",
       "      <td>Pave</td>\n",
       "      <td>NaN</td>\n",
       "      <td>IR1</td>\n",
       "      <td>Lvl</td>\n",
       "      <td>AllPub</td>\n",
       "      <td>...</td>\n",
       "      <td>0</td>\n",
       "      <td>0</td>\n",
       "      <td>NaN</td>\n",
       "      <td>NaN</td>\n",
       "      <td>NaN</td>\n",
       "      <td>0</td>\n",
       "      <td>8</td>\n",
       "      <td>2009</td>\n",
       "      <td>COD</td>\n",
       "      <td>Abnorml</td>\n",
       "    </tr>\n",
       "    <tr>\n",
       "      <th>2</th>\n",
       "      <td>929</td>\n",
       "      <td>20</td>\n",
       "      <td>RL</td>\n",
       "      <td>NaN</td>\n",
       "      <td>11838</td>\n",
       "      <td>Pave</td>\n",
       "      <td>NaN</td>\n",
       "      <td>Reg</td>\n",
       "      <td>Lvl</td>\n",
       "      <td>AllPub</td>\n",
       "      <td>...</td>\n",
       "      <td>0</td>\n",
       "      <td>0</td>\n",
       "      <td>NaN</td>\n",
       "      <td>NaN</td>\n",
       "      <td>NaN</td>\n",
       "      <td>0</td>\n",
       "      <td>6</td>\n",
       "      <td>2009</td>\n",
       "      <td>WD</td>\n",
       "      <td>Normal</td>\n",
       "    </tr>\n",
       "    <tr>\n",
       "      <th>3</th>\n",
       "      <td>1148</td>\n",
       "      <td>70</td>\n",
       "      <td>RL</td>\n",
       "      <td>75.0</td>\n",
       "      <td>12000</td>\n",
       "      <td>Pave</td>\n",
       "      <td>NaN</td>\n",
       "      <td>Reg</td>\n",
       "      <td>Bnk</td>\n",
       "      <td>AllPub</td>\n",
       "      <td>...</td>\n",
       "      <td>0</td>\n",
       "      <td>0</td>\n",
       "      <td>NaN</td>\n",
       "      <td>NaN</td>\n",
       "      <td>NaN</td>\n",
       "      <td>0</td>\n",
       "      <td>7</td>\n",
       "      <td>2009</td>\n",
       "      <td>WD</td>\n",
       "      <td>Normal</td>\n",
       "    </tr>\n",
       "    <tr>\n",
       "      <th>4</th>\n",
       "      <td>1227</td>\n",
       "      <td>60</td>\n",
       "      <td>RL</td>\n",
       "      <td>86.0</td>\n",
       "      <td>14598</td>\n",
       "      <td>Pave</td>\n",
       "      <td>NaN</td>\n",
       "      <td>IR1</td>\n",
       "      <td>Lvl</td>\n",
       "      <td>AllPub</td>\n",
       "      <td>...</td>\n",
       "      <td>0</td>\n",
       "      <td>0</td>\n",
       "      <td>NaN</td>\n",
       "      <td>NaN</td>\n",
       "      <td>NaN</td>\n",
       "      <td>0</td>\n",
       "      <td>1</td>\n",
       "      <td>2008</td>\n",
       "      <td>WD</td>\n",
       "      <td>Normal</td>\n",
       "    </tr>\n",
       "  </tbody>\n",
       "</table>\n",
       "<p>5 rows × 80 columns</p>\n",
       "</div>"
      ],
      "text/plain": [
       "     Id  MSSubClass MSZoning  LotFrontage  LotArea Street Alley LotShape  \\\n",
       "0   337          20       RL         86.0    14157   Pave   NaN      IR1   \n",
       "1  1018         120       RL          NaN     5814   Pave   NaN      IR1   \n",
       "2   929          20       RL          NaN    11838   Pave   NaN      Reg   \n",
       "3  1148          70       RL         75.0    12000   Pave   NaN      Reg   \n",
       "4  1227          60       RL         86.0    14598   Pave   NaN      IR1   \n",
       "\n",
       "  LandContour Utilities  ... ScreenPorch PoolArea PoolQC Fence MiscFeature  \\\n",
       "0         HLS    AllPub  ...           0        0    NaN   NaN         NaN   \n",
       "1         Lvl    AllPub  ...           0        0    NaN   NaN         NaN   \n",
       "2         Lvl    AllPub  ...           0        0    NaN   NaN         NaN   \n",
       "3         Bnk    AllPub  ...           0        0    NaN   NaN         NaN   \n",
       "4         Lvl    AllPub  ...           0        0    NaN   NaN         NaN   \n",
       "\n",
       "  MiscVal MoSold  YrSold  SaleType  SaleCondition  \n",
       "0       0      7    2007        WD         Normal  \n",
       "1       0      8    2009       COD        Abnorml  \n",
       "2       0      6    2009        WD         Normal  \n",
       "3       0      7    2009        WD         Normal  \n",
       "4       0      1    2008        WD         Normal  \n",
       "\n",
       "[5 rows x 80 columns]"
      ]
     },
     "execution_count": 55,
     "metadata": {},
     "output_type": "execute_result"
    }
   ],
   "source": [
    "df_test.head()"
   ]
  },
  {
   "cell_type": "code",
   "execution_count": 56,
   "metadata": {},
   "outputs": [
    {
     "data": {
      "text/html": [
       "<div>\n",
       "<style scoped>\n",
       "    .dataframe tbody tr th:only-of-type {\n",
       "        vertical-align: middle;\n",
       "    }\n",
       "\n",
       "    .dataframe tbody tr th {\n",
       "        vertical-align: top;\n",
       "    }\n",
       "\n",
       "    .dataframe thead th {\n",
       "        text-align: right;\n",
       "    }\n",
       "</style>\n",
       "<table border=\"1\" class=\"dataframe\">\n",
       "  <thead>\n",
       "    <tr style=\"text-align: right;\">\n",
       "      <th></th>\n",
       "      <th>Id</th>\n",
       "      <th>MSSubClass</th>\n",
       "      <th>MSZoning</th>\n",
       "      <th>LotFrontage</th>\n",
       "      <th>LotArea</th>\n",
       "      <th>Street</th>\n",
       "      <th>Alley</th>\n",
       "      <th>LotShape</th>\n",
       "      <th>LandContour</th>\n",
       "      <th>Utilities</th>\n",
       "      <th>...</th>\n",
       "      <th>ScreenPorch</th>\n",
       "      <th>PoolArea</th>\n",
       "      <th>PoolQC</th>\n",
       "      <th>Fence</th>\n",
       "      <th>MiscFeature</th>\n",
       "      <th>MiscVal</th>\n",
       "      <th>MoSold</th>\n",
       "      <th>YrSold</th>\n",
       "      <th>SaleType</th>\n",
       "      <th>SaleCondition</th>\n",
       "    </tr>\n",
       "  </thead>\n",
       "  <tbody>\n",
       "    <tr>\n",
       "      <th>287</th>\n",
       "      <td>83</td>\n",
       "      <td>20</td>\n",
       "      <td>RL</td>\n",
       "      <td>78.0</td>\n",
       "      <td>10206</td>\n",
       "      <td>Pave</td>\n",
       "      <td>NaN</td>\n",
       "      <td>Reg</td>\n",
       "      <td>Lvl</td>\n",
       "      <td>AllPub</td>\n",
       "      <td>...</td>\n",
       "      <td>0</td>\n",
       "      <td>0</td>\n",
       "      <td>NaN</td>\n",
       "      <td>NaN</td>\n",
       "      <td>NaN</td>\n",
       "      <td>0</td>\n",
       "      <td>10</td>\n",
       "      <td>2008</td>\n",
       "      <td>WD</td>\n",
       "      <td>Normal</td>\n",
       "    </tr>\n",
       "    <tr>\n",
       "      <th>288</th>\n",
       "      <td>1048</td>\n",
       "      <td>20</td>\n",
       "      <td>RL</td>\n",
       "      <td>57.0</td>\n",
       "      <td>9245</td>\n",
       "      <td>Pave</td>\n",
       "      <td>NaN</td>\n",
       "      <td>IR2</td>\n",
       "      <td>Lvl</td>\n",
       "      <td>AllPub</td>\n",
       "      <td>...</td>\n",
       "      <td>0</td>\n",
       "      <td>0</td>\n",
       "      <td>NaN</td>\n",
       "      <td>NaN</td>\n",
       "      <td>NaN</td>\n",
       "      <td>0</td>\n",
       "      <td>2</td>\n",
       "      <td>2008</td>\n",
       "      <td>WD</td>\n",
       "      <td>Normal</td>\n",
       "    </tr>\n",
       "    <tr>\n",
       "      <th>289</th>\n",
       "      <td>17</td>\n",
       "      <td>20</td>\n",
       "      <td>RL</td>\n",
       "      <td>NaN</td>\n",
       "      <td>11241</td>\n",
       "      <td>Pave</td>\n",
       "      <td>NaN</td>\n",
       "      <td>IR1</td>\n",
       "      <td>Lvl</td>\n",
       "      <td>AllPub</td>\n",
       "      <td>...</td>\n",
       "      <td>0</td>\n",
       "      <td>0</td>\n",
       "      <td>NaN</td>\n",
       "      <td>NaN</td>\n",
       "      <td>Shed</td>\n",
       "      <td>700</td>\n",
       "      <td>3</td>\n",
       "      <td>2010</td>\n",
       "      <td>WD</td>\n",
       "      <td>Normal</td>\n",
       "    </tr>\n",
       "    <tr>\n",
       "      <th>290</th>\n",
       "      <td>523</td>\n",
       "      <td>50</td>\n",
       "      <td>RM</td>\n",
       "      <td>50.0</td>\n",
       "      <td>5000</td>\n",
       "      <td>Pave</td>\n",
       "      <td>NaN</td>\n",
       "      <td>Reg</td>\n",
       "      <td>Lvl</td>\n",
       "      <td>AllPub</td>\n",
       "      <td>...</td>\n",
       "      <td>0</td>\n",
       "      <td>0</td>\n",
       "      <td>NaN</td>\n",
       "      <td>NaN</td>\n",
       "      <td>NaN</td>\n",
       "      <td>0</td>\n",
       "      <td>10</td>\n",
       "      <td>2006</td>\n",
       "      <td>WD</td>\n",
       "      <td>Normal</td>\n",
       "    </tr>\n",
       "    <tr>\n",
       "      <th>291</th>\n",
       "      <td>1379</td>\n",
       "      <td>160</td>\n",
       "      <td>RM</td>\n",
       "      <td>21.0</td>\n",
       "      <td>1953</td>\n",
       "      <td>Pave</td>\n",
       "      <td>NaN</td>\n",
       "      <td>Reg</td>\n",
       "      <td>Lvl</td>\n",
       "      <td>AllPub</td>\n",
       "      <td>...</td>\n",
       "      <td>0</td>\n",
       "      <td>0</td>\n",
       "      <td>NaN</td>\n",
       "      <td>NaN</td>\n",
       "      <td>NaN</td>\n",
       "      <td>0</td>\n",
       "      <td>6</td>\n",
       "      <td>2006</td>\n",
       "      <td>WD</td>\n",
       "      <td>Normal</td>\n",
       "    </tr>\n",
       "  </tbody>\n",
       "</table>\n",
       "<p>5 rows × 80 columns</p>\n",
       "</div>"
      ],
      "text/plain": [
       "       Id  MSSubClass MSZoning  LotFrontage  LotArea Street Alley LotShape  \\\n",
       "287    83          20       RL         78.0    10206   Pave   NaN      Reg   \n",
       "288  1048          20       RL         57.0     9245   Pave   NaN      IR2   \n",
       "289    17          20       RL          NaN    11241   Pave   NaN      IR1   \n",
       "290   523          50       RM         50.0     5000   Pave   NaN      Reg   \n",
       "291  1379         160       RM         21.0     1953   Pave   NaN      Reg   \n",
       "\n",
       "    LandContour Utilities  ... ScreenPorch PoolArea PoolQC Fence MiscFeature  \\\n",
       "287         Lvl    AllPub  ...           0        0    NaN   NaN         NaN   \n",
       "288         Lvl    AllPub  ...           0        0    NaN   NaN         NaN   \n",
       "289         Lvl    AllPub  ...           0        0    NaN   NaN        Shed   \n",
       "290         Lvl    AllPub  ...           0        0    NaN   NaN         NaN   \n",
       "291         Lvl    AllPub  ...           0        0    NaN   NaN         NaN   \n",
       "\n",
       "    MiscVal MoSold  YrSold  SaleType  SaleCondition  \n",
       "287       0     10    2008        WD         Normal  \n",
       "288       0      2    2008        WD         Normal  \n",
       "289     700      3    2010        WD         Normal  \n",
       "290       0     10    2006        WD         Normal  \n",
       "291       0      6    2006        WD         Normal  \n",
       "\n",
       "[5 rows x 80 columns]"
      ]
     },
     "execution_count": 56,
     "metadata": {},
     "output_type": "execute_result"
    }
   ],
   "source": [
    "df_test.tail()"
   ]
  },
  {
   "cell_type": "code",
   "execution_count": 57,
   "metadata": {},
   "outputs": [
    {
     "data": {
      "text/plain": [
       "(292, 80)"
      ]
     },
     "execution_count": 57,
     "metadata": {},
     "output_type": "execute_result"
    }
   ],
   "source": [
    "df_test.shape"
   ]
  },
  {
   "cell_type": "code",
   "execution_count": 58,
   "metadata": {},
   "outputs": [
    {
     "data": {
      "text/plain": [
       "Id               292\n",
       "MSSubClass        15\n",
       "MSZoning           4\n",
       "LotFrontage       66\n",
       "LotArea          249\n",
       "                ... \n",
       "MiscVal            8\n",
       "MoSold            12\n",
       "YrSold             5\n",
       "SaleType           6\n",
       "SaleCondition      4\n",
       "Length: 80, dtype: int64"
      ]
     },
     "execution_count": 58,
     "metadata": {},
     "output_type": "execute_result"
    }
   ],
   "source": [
    "# check unique values in dataset\n",
    "\n",
    "df_test.apply(lambda x: len(x.unique()))"
   ]
  },
  {
   "cell_type": "markdown",
   "metadata": {},
   "source": [
    "# CLEANING OUR DATASET"
   ]
  },
  {
   "cell_type": "code",
   "execution_count": 59,
   "metadata": {},
   "outputs": [
    {
     "name": "stdout",
     "output_type": "stream",
     "text": [
      "<class 'pandas.core.frame.DataFrame'>\n",
      "RangeIndex: 292 entries, 0 to 291\n",
      "Data columns (total 80 columns):\n",
      " #   Column         Non-Null Count  Dtype  \n",
      "---  ------         --------------  -----  \n",
      " 0   Id             292 non-null    int64  \n",
      " 1   MSSubClass     292 non-null    int64  \n",
      " 2   MSZoning       292 non-null    object \n",
      " 3   LotFrontage    247 non-null    float64\n",
      " 4   LotArea        292 non-null    int64  \n",
      " 5   Street         292 non-null    object \n",
      " 6   Alley          14 non-null     object \n",
      " 7   LotShape       292 non-null    object \n",
      " 8   LandContour    292 non-null    object \n",
      " 9   Utilities      292 non-null    object \n",
      " 10  LotConfig      292 non-null    object \n",
      " 11  LandSlope      292 non-null    object \n",
      " 12  Neighborhood   292 non-null    object \n",
      " 13  Condition1     292 non-null    object \n",
      " 14  Condition2     292 non-null    object \n",
      " 15  BldgType       292 non-null    object \n",
      " 16  HouseStyle     292 non-null    object \n",
      " 17  OverallQual    292 non-null    int64  \n",
      " 18  OverallCond    292 non-null    int64  \n",
      " 19  YearBuilt      292 non-null    int64  \n",
      " 20  YearRemodAdd   292 non-null    int64  \n",
      " 21  RoofStyle      292 non-null    object \n",
      " 22  RoofMatl       292 non-null    object \n",
      " 23  Exterior1st    292 non-null    object \n",
      " 24  Exterior2nd    292 non-null    object \n",
      " 25  MasVnrType     291 non-null    object \n",
      " 26  MasVnrArea     291 non-null    float64\n",
      " 27  ExterQual      292 non-null    object \n",
      " 28  ExterCond      292 non-null    object \n",
      " 29  Foundation     292 non-null    object \n",
      " 30  BsmtQual       285 non-null    object \n",
      " 31  BsmtCond       285 non-null    object \n",
      " 32  BsmtExposure   285 non-null    object \n",
      " 33  BsmtFinType1   285 non-null    object \n",
      " 34  BsmtFinSF1     292 non-null    int64  \n",
      " 35  BsmtFinType2   285 non-null    object \n",
      " 36  BsmtFinSF2     292 non-null    int64  \n",
      " 37  BsmtUnfSF      292 non-null    int64  \n",
      " 38  TotalBsmtSF    292 non-null    int64  \n",
      " 39  Heating        292 non-null    object \n",
      " 40  HeatingQC      292 non-null    object \n",
      " 41  CentralAir     292 non-null    object \n",
      " 42  Electrical     291 non-null    object \n",
      " 43  1stFlrSF       292 non-null    int64  \n",
      " 44  2ndFlrSF       292 non-null    int64  \n",
      " 45  LowQualFinSF   292 non-null    int64  \n",
      " 46  GrLivArea      292 non-null    int64  \n",
      " 47  BsmtFullBath   292 non-null    int64  \n",
      " 48  BsmtHalfBath   292 non-null    int64  \n",
      " 49  FullBath       292 non-null    int64  \n",
      " 50  HalfBath       292 non-null    int64  \n",
      " 51  BedroomAbvGr   292 non-null    int64  \n",
      " 52  KitchenAbvGr   292 non-null    int64  \n",
      " 53  KitchenQual    292 non-null    object \n",
      " 54  TotRmsAbvGrd   292 non-null    int64  \n",
      " 55  Functional     292 non-null    object \n",
      " 56  Fireplaces     292 non-null    int64  \n",
      " 57  FireplaceQu    153 non-null    object \n",
      " 58  GarageType     275 non-null    object \n",
      " 59  GarageYrBlt    275 non-null    float64\n",
      " 60  GarageFinish   275 non-null    object \n",
      " 61  GarageCars     292 non-null    int64  \n",
      " 62  GarageArea     292 non-null    int64  \n",
      " 63  GarageQual     275 non-null    object \n",
      " 64  GarageCond     275 non-null    object \n",
      " 65  PavedDrive     292 non-null    object \n",
      " 66  WoodDeckSF     292 non-null    int64  \n",
      " 67  OpenPorchSF    292 non-null    int64  \n",
      " 68  EnclosedPorch  292 non-null    int64  \n",
      " 69  3SsnPorch      292 non-null    int64  \n",
      " 70  ScreenPorch    292 non-null    int64  \n",
      " 71  PoolArea       292 non-null    int64  \n",
      " 72  PoolQC         0 non-null      float64\n",
      " 73  Fence          44 non-null     object \n",
      " 74  MiscFeature    10 non-null     object \n",
      " 75  MiscVal        292 non-null    int64  \n",
      " 76  MoSold         292 non-null    int64  \n",
      " 77  YrSold         292 non-null    int64  \n",
      " 78  SaleType       292 non-null    object \n",
      " 79  SaleCondition  292 non-null    object \n",
      "dtypes: float64(4), int64(34), object(42)\n",
      "memory usage: 182.6+ KB\n"
     ]
    }
   ],
   "source": [
    "df_test.info()"
   ]
  },
  {
   "cell_type": "code",
   "execution_count": 60,
   "metadata": {},
   "outputs": [
    {
     "data": {
      "text/plain": [
       "Id                0\n",
       "MSSubClass        0\n",
       "MSZoning          0\n",
       "LotFrontage      45\n",
       "LotArea           0\n",
       "                 ..\n",
       "MiscVal           0\n",
       "MoSold            0\n",
       "YrSold            0\n",
       "SaleType          0\n",
       "SaleCondition     0\n",
       "Length: 80, dtype: int64"
      ]
     },
     "execution_count": 60,
     "metadata": {},
     "output_type": "execute_result"
    }
   ],
   "source": [
    "df_test.isnull().sum()"
   ]
  },
  {
   "cell_type": "code",
   "execution_count": 61,
   "metadata": {},
   "outputs": [],
   "source": [
    "df_test = df_test.drop(columns = ['Alley','FireplaceQu','PoolQC','Fence','MiscFeature','Utilities','Id'])"
   ]
  },
  {
   "cell_type": "code",
   "execution_count": 62,
   "metadata": {},
   "outputs": [],
   "source": [
    "for i in df_test.columns:\n",
    "    if df_test[i].dtypes!= \"object\":\n",
    "        df_test[i]=df_test[i].fillna(df_test[i].mean())"
   ]
  },
  {
   "cell_type": "code",
   "execution_count": 63,
   "metadata": {},
   "outputs": [],
   "source": [
    "# replace NaN vales with mode\n",
    "\n",
    "df_test['GarageCond']=df_test['GarageCond'].fillna(df_test['GarageCond'].mode()[0])\n",
    "df_test['MasVnrType']=df_test['MasVnrType'].fillna(df_test['MasVnrType'].mode()[0])\n",
    "df_test['BsmtExposure']=df_test['BsmtExposure'].fillna(df_test['BsmtExposure'].mode()[0])\n",
    "df_test[\"BsmtQual\"] = df_test[\"BsmtQual\"].fillna(df_test[\"BsmtQual\"].mode()[0])\n",
    "df_test[\"BsmtCond\"] = df_test[\"BsmtCond\"].fillna(df_test[\"BsmtCond\"].mode()[0])\n",
    "df_test[\"BsmtFinType1\"] = df_test[\"BsmtFinType1\"].fillna(df_test[\"BsmtFinType1\"].mode()[0])\n",
    "df_test[\"BsmtFinType2\"] = df_test[\"BsmtFinType2\"].fillna(df_test[\"BsmtFinType2\"].mode()[0])\n",
    "df_test[\"GarageQual\"] = df_test[\"GarageQual\"].fillna(df_test[\"GarageQual\"].mode()[0])\n",
    "df_test[\"GarageCond\"] = df_test[\"GarageCond\"].fillna(df_test[\"GarageCond\"].mode()[0])\n",
    "df_test[\"GarageFinish\"] = df_test[\"GarageFinish\"].fillna(df_test[\"GarageFinish\"].mode()[0])\n",
    "df_test[\"GarageType\"] = df_test[\"GarageType\"].fillna(df_test[\"GarageType\"].mode()[0])\n",
    "df_test[\"Electrical\"] = df_test[\"Electrical\"].fillna(df_test[\"Electrical\"].mode()[0])"
   ]
  },
  {
   "cell_type": "markdown",
   "metadata": {},
   "source": [
    "# LabelEncoding"
   ]
  },
  {
   "cell_type": "code",
   "execution_count": 64,
   "metadata": {},
   "outputs": [],
   "source": [
    "# encoding the columns which are in string format into numeric format\n",
    "\n",
    "for i in df_test.columns:\n",
    "    if df_test[i].dtypes== \"object\":\n",
    "        df_test[i]=le.fit_transform(df_test[i].values.reshape(-1,1))"
   ]
  },
  {
   "cell_type": "code",
   "execution_count": 65,
   "metadata": {},
   "outputs": [
    {
     "data": {
      "text/html": [
       "<div>\n",
       "<style scoped>\n",
       "    .dataframe tbody tr th:only-of-type {\n",
       "        vertical-align: middle;\n",
       "    }\n",
       "\n",
       "    .dataframe tbody tr th {\n",
       "        vertical-align: top;\n",
       "    }\n",
       "\n",
       "    .dataframe thead th {\n",
       "        text-align: right;\n",
       "    }\n",
       "</style>\n",
       "<table border=\"1\" class=\"dataframe\">\n",
       "  <thead>\n",
       "    <tr style=\"text-align: right;\">\n",
       "      <th></th>\n",
       "      <th>MSSubClass</th>\n",
       "      <th>MSZoning</th>\n",
       "      <th>LotFrontage</th>\n",
       "      <th>LotArea</th>\n",
       "      <th>Street</th>\n",
       "      <th>LotShape</th>\n",
       "      <th>LandContour</th>\n",
       "      <th>LotConfig</th>\n",
       "      <th>LandSlope</th>\n",
       "      <th>Neighborhood</th>\n",
       "      <th>...</th>\n",
       "      <th>OpenPorchSF</th>\n",
       "      <th>EnclosedPorch</th>\n",
       "      <th>3SsnPorch</th>\n",
       "      <th>ScreenPorch</th>\n",
       "      <th>PoolArea</th>\n",
       "      <th>MiscVal</th>\n",
       "      <th>MoSold</th>\n",
       "      <th>YrSold</th>\n",
       "      <th>SaleType</th>\n",
       "      <th>SaleCondition</th>\n",
       "    </tr>\n",
       "  </thead>\n",
       "  <tbody>\n",
       "    <tr>\n",
       "      <th>0</th>\n",
       "      <td>20</td>\n",
       "      <td>2</td>\n",
       "      <td>86.000000</td>\n",
       "      <td>14157</td>\n",
       "      <td>1</td>\n",
       "      <td>0</td>\n",
       "      <td>1</td>\n",
       "      <td>0</td>\n",
       "      <td>0</td>\n",
       "      <td>21</td>\n",
       "      <td>...</td>\n",
       "      <td>51</td>\n",
       "      <td>0</td>\n",
       "      <td>0</td>\n",
       "      <td>0</td>\n",
       "      <td>0</td>\n",
       "      <td>0</td>\n",
       "      <td>7</td>\n",
       "      <td>2007</td>\n",
       "      <td>5</td>\n",
       "      <td>2</td>\n",
       "    </tr>\n",
       "    <tr>\n",
       "      <th>1</th>\n",
       "      <td>120</td>\n",
       "      <td>2</td>\n",
       "      <td>66.425101</td>\n",
       "      <td>5814</td>\n",
       "      <td>1</td>\n",
       "      <td>0</td>\n",
       "      <td>3</td>\n",
       "      <td>1</td>\n",
       "      <td>0</td>\n",
       "      <td>21</td>\n",
       "      <td>...</td>\n",
       "      <td>0</td>\n",
       "      <td>0</td>\n",
       "      <td>0</td>\n",
       "      <td>0</td>\n",
       "      <td>0</td>\n",
       "      <td>0</td>\n",
       "      <td>8</td>\n",
       "      <td>2009</td>\n",
       "      <td>0</td>\n",
       "      <td>0</td>\n",
       "    </tr>\n",
       "    <tr>\n",
       "      <th>2</th>\n",
       "      <td>20</td>\n",
       "      <td>2</td>\n",
       "      <td>66.425101</td>\n",
       "      <td>11838</td>\n",
       "      <td>1</td>\n",
       "      <td>3</td>\n",
       "      <td>3</td>\n",
       "      <td>4</td>\n",
       "      <td>0</td>\n",
       "      <td>4</td>\n",
       "      <td>...</td>\n",
       "      <td>151</td>\n",
       "      <td>0</td>\n",
       "      <td>0</td>\n",
       "      <td>0</td>\n",
       "      <td>0</td>\n",
       "      <td>0</td>\n",
       "      <td>6</td>\n",
       "      <td>2009</td>\n",
       "      <td>5</td>\n",
       "      <td>2</td>\n",
       "    </tr>\n",
       "    <tr>\n",
       "      <th>3</th>\n",
       "      <td>70</td>\n",
       "      <td>2</td>\n",
       "      <td>75.000000</td>\n",
       "      <td>12000</td>\n",
       "      <td>1</td>\n",
       "      <td>3</td>\n",
       "      <td>0</td>\n",
       "      <td>4</td>\n",
       "      <td>0</td>\n",
       "      <td>5</td>\n",
       "      <td>...</td>\n",
       "      <td>0</td>\n",
       "      <td>0</td>\n",
       "      <td>0</td>\n",
       "      <td>0</td>\n",
       "      <td>0</td>\n",
       "      <td>0</td>\n",
       "      <td>7</td>\n",
       "      <td>2009</td>\n",
       "      <td>5</td>\n",
       "      <td>2</td>\n",
       "    </tr>\n",
       "    <tr>\n",
       "      <th>4</th>\n",
       "      <td>60</td>\n",
       "      <td>2</td>\n",
       "      <td>86.000000</td>\n",
       "      <td>14598</td>\n",
       "      <td>1</td>\n",
       "      <td>0</td>\n",
       "      <td>3</td>\n",
       "      <td>1</td>\n",
       "      <td>0</td>\n",
       "      <td>20</td>\n",
       "      <td>...</td>\n",
       "      <td>18</td>\n",
       "      <td>0</td>\n",
       "      <td>0</td>\n",
       "      <td>0</td>\n",
       "      <td>0</td>\n",
       "      <td>0</td>\n",
       "      <td>1</td>\n",
       "      <td>2008</td>\n",
       "      <td>5</td>\n",
       "      <td>2</td>\n",
       "    </tr>\n",
       "  </tbody>\n",
       "</table>\n",
       "<p>5 rows × 73 columns</p>\n",
       "</div>"
      ],
      "text/plain": [
       "   MSSubClass  MSZoning  LotFrontage  LotArea  Street  LotShape  LandContour  \\\n",
       "0          20         2    86.000000    14157       1         0            1   \n",
       "1         120         2    66.425101     5814       1         0            3   \n",
       "2          20         2    66.425101    11838       1         3            3   \n",
       "3          70         2    75.000000    12000       1         3            0   \n",
       "4          60         2    86.000000    14598       1         0            3   \n",
       "\n",
       "   LotConfig  LandSlope  Neighborhood  ...  OpenPorchSF  EnclosedPorch  \\\n",
       "0          0          0            21  ...           51              0   \n",
       "1          1          0            21  ...            0              0   \n",
       "2          4          0             4  ...          151              0   \n",
       "3          4          0             5  ...            0              0   \n",
       "4          1          0            20  ...           18              0   \n",
       "\n",
       "   3SsnPorch  ScreenPorch  PoolArea  MiscVal  MoSold  YrSold  SaleType  \\\n",
       "0          0            0         0        0       7    2007         5   \n",
       "1          0            0         0        0       8    2009         0   \n",
       "2          0            0         0        0       6    2009         5   \n",
       "3          0            0         0        0       7    2009         5   \n",
       "4          0            0         0        0       1    2008         5   \n",
       "\n",
       "   SaleCondition  \n",
       "0              2  \n",
       "1              0  \n",
       "2              2  \n",
       "3              2  \n",
       "4              2  \n",
       "\n",
       "[5 rows x 73 columns]"
      ]
     },
     "execution_count": 65,
     "metadata": {},
     "output_type": "execute_result"
    }
   ],
   "source": [
    "df_test.head()"
   ]
  },
  {
   "cell_type": "markdown",
   "metadata": {},
   "source": [
    "# SCALING"
   ]
  },
  {
   "cell_type": "code",
   "execution_count": 66,
   "metadata": {},
   "outputs": [],
   "source": [
    "from sklearn.preprocessing import MinMaxScaler\n",
    "\n",
    "scaler= MinMaxScaler()\n",
    "\n",
    "df_test=pd.DataFrame(scaler.fit_transform(df_test), columns= df_test.columns)"
   ]
  },
  {
   "cell_type": "code",
   "execution_count": 67,
   "metadata": {},
   "outputs": [
    {
     "data": {
      "text/html": [
       "<div>\n",
       "<style scoped>\n",
       "    .dataframe tbody tr th:only-of-type {\n",
       "        vertical-align: middle;\n",
       "    }\n",
       "\n",
       "    .dataframe tbody tr th {\n",
       "        vertical-align: top;\n",
       "    }\n",
       "\n",
       "    .dataframe thead th {\n",
       "        text-align: right;\n",
       "    }\n",
       "</style>\n",
       "<table border=\"1\" class=\"dataframe\">\n",
       "  <thead>\n",
       "    <tr style=\"text-align: right;\">\n",
       "      <th></th>\n",
       "      <th>MSSubClass</th>\n",
       "      <th>MSZoning</th>\n",
       "      <th>LotFrontage</th>\n",
       "      <th>LotArea</th>\n",
       "      <th>Street</th>\n",
       "      <th>LotShape</th>\n",
       "      <th>LandContour</th>\n",
       "      <th>LotConfig</th>\n",
       "      <th>LandSlope</th>\n",
       "      <th>Neighborhood</th>\n",
       "      <th>...</th>\n",
       "      <th>OpenPorchSF</th>\n",
       "      <th>EnclosedPorch</th>\n",
       "      <th>3SsnPorch</th>\n",
       "      <th>ScreenPorch</th>\n",
       "      <th>PoolArea</th>\n",
       "      <th>MiscVal</th>\n",
       "      <th>MoSold</th>\n",
       "      <th>YrSold</th>\n",
       "      <th>SaleType</th>\n",
       "      <th>SaleCondition</th>\n",
       "    </tr>\n",
       "  </thead>\n",
       "  <tbody>\n",
       "    <tr>\n",
       "      <th>0</th>\n",
       "      <td>0.000000</td>\n",
       "      <td>0.666667</td>\n",
       "      <td>0.503876</td>\n",
       "      <td>0.059101</td>\n",
       "      <td>1.0</td>\n",
       "      <td>0.0</td>\n",
       "      <td>0.333333</td>\n",
       "      <td>0.00</td>\n",
       "      <td>0.0</td>\n",
       "      <td>0.913043</td>\n",
       "      <td>...</td>\n",
       "      <td>0.122010</td>\n",
       "      <td>0.0</td>\n",
       "      <td>0.0</td>\n",
       "      <td>0.0</td>\n",
       "      <td>0.0</td>\n",
       "      <td>0.0</td>\n",
       "      <td>0.545455</td>\n",
       "      <td>0.25</td>\n",
       "      <td>1.0</td>\n",
       "      <td>0.666667</td>\n",
       "    </tr>\n",
       "    <tr>\n",
       "      <th>1</th>\n",
       "      <td>0.588235</td>\n",
       "      <td>0.666667</td>\n",
       "      <td>0.352133</td>\n",
       "      <td>0.020064</td>\n",
       "      <td>1.0</td>\n",
       "      <td>0.0</td>\n",
       "      <td>1.000000</td>\n",
       "      <td>0.25</td>\n",
       "      <td>0.0</td>\n",
       "      <td>0.913043</td>\n",
       "      <td>...</td>\n",
       "      <td>0.000000</td>\n",
       "      <td>0.0</td>\n",
       "      <td>0.0</td>\n",
       "      <td>0.0</td>\n",
       "      <td>0.0</td>\n",
       "      <td>0.0</td>\n",
       "      <td>0.636364</td>\n",
       "      <td>0.75</td>\n",
       "      <td>0.0</td>\n",
       "      <td>0.000000</td>\n",
       "    </tr>\n",
       "    <tr>\n",
       "      <th>2</th>\n",
       "      <td>0.000000</td>\n",
       "      <td>0.666667</td>\n",
       "      <td>0.352133</td>\n",
       "      <td>0.048250</td>\n",
       "      <td>1.0</td>\n",
       "      <td>1.0</td>\n",
       "      <td>1.000000</td>\n",
       "      <td>1.00</td>\n",
       "      <td>0.0</td>\n",
       "      <td>0.173913</td>\n",
       "      <td>...</td>\n",
       "      <td>0.361244</td>\n",
       "      <td>0.0</td>\n",
       "      <td>0.0</td>\n",
       "      <td>0.0</td>\n",
       "      <td>0.0</td>\n",
       "      <td>0.0</td>\n",
       "      <td>0.454545</td>\n",
       "      <td>0.75</td>\n",
       "      <td>1.0</td>\n",
       "      <td>0.666667</td>\n",
       "    </tr>\n",
       "    <tr>\n",
       "      <th>3</th>\n",
       "      <td>0.294118</td>\n",
       "      <td>0.666667</td>\n",
       "      <td>0.418605</td>\n",
       "      <td>0.049008</td>\n",
       "      <td>1.0</td>\n",
       "      <td>1.0</td>\n",
       "      <td>0.000000</td>\n",
       "      <td>1.00</td>\n",
       "      <td>0.0</td>\n",
       "      <td>0.217391</td>\n",
       "      <td>...</td>\n",
       "      <td>0.000000</td>\n",
       "      <td>0.0</td>\n",
       "      <td>0.0</td>\n",
       "      <td>0.0</td>\n",
       "      <td>0.0</td>\n",
       "      <td>0.0</td>\n",
       "      <td>0.545455</td>\n",
       "      <td>0.75</td>\n",
       "      <td>1.0</td>\n",
       "      <td>0.666667</td>\n",
       "    </tr>\n",
       "    <tr>\n",
       "      <th>4</th>\n",
       "      <td>0.235294</td>\n",
       "      <td>0.666667</td>\n",
       "      <td>0.503876</td>\n",
       "      <td>0.061164</td>\n",
       "      <td>1.0</td>\n",
       "      <td>0.0</td>\n",
       "      <td>1.000000</td>\n",
       "      <td>0.25</td>\n",
       "      <td>0.0</td>\n",
       "      <td>0.869565</td>\n",
       "      <td>...</td>\n",
       "      <td>0.043062</td>\n",
       "      <td>0.0</td>\n",
       "      <td>0.0</td>\n",
       "      <td>0.0</td>\n",
       "      <td>0.0</td>\n",
       "      <td>0.0</td>\n",
       "      <td>0.000000</td>\n",
       "      <td>0.50</td>\n",
       "      <td>1.0</td>\n",
       "      <td>0.666667</td>\n",
       "    </tr>\n",
       "  </tbody>\n",
       "</table>\n",
       "<p>5 rows × 73 columns</p>\n",
       "</div>"
      ],
      "text/plain": [
       "   MSSubClass  MSZoning  LotFrontage   LotArea  Street  LotShape  LandContour  \\\n",
       "0    0.000000  0.666667     0.503876  0.059101     1.0       0.0     0.333333   \n",
       "1    0.588235  0.666667     0.352133  0.020064     1.0       0.0     1.000000   \n",
       "2    0.000000  0.666667     0.352133  0.048250     1.0       1.0     1.000000   \n",
       "3    0.294118  0.666667     0.418605  0.049008     1.0       1.0     0.000000   \n",
       "4    0.235294  0.666667     0.503876  0.061164     1.0       0.0     1.000000   \n",
       "\n",
       "   LotConfig  LandSlope  Neighborhood  ...  OpenPorchSF  EnclosedPorch  \\\n",
       "0       0.00        0.0      0.913043  ...     0.122010            0.0   \n",
       "1       0.25        0.0      0.913043  ...     0.000000            0.0   \n",
       "2       1.00        0.0      0.173913  ...     0.361244            0.0   \n",
       "3       1.00        0.0      0.217391  ...     0.000000            0.0   \n",
       "4       0.25        0.0      0.869565  ...     0.043062            0.0   \n",
       "\n",
       "   3SsnPorch  ScreenPorch  PoolArea  MiscVal    MoSold  YrSold  SaleType  \\\n",
       "0        0.0          0.0       0.0      0.0  0.545455    0.25       1.0   \n",
       "1        0.0          0.0       0.0      0.0  0.636364    0.75       0.0   \n",
       "2        0.0          0.0       0.0      0.0  0.454545    0.75       1.0   \n",
       "3        0.0          0.0       0.0      0.0  0.545455    0.75       1.0   \n",
       "4        0.0          0.0       0.0      0.0  0.000000    0.50       1.0   \n",
       "\n",
       "   SaleCondition  \n",
       "0       0.666667  \n",
       "1       0.000000  \n",
       "2       0.666667  \n",
       "3       0.666667  \n",
       "4       0.666667  \n",
       "\n",
       "[5 rows x 73 columns]"
      ]
     },
     "execution_count": 67,
     "metadata": {},
     "output_type": "execute_result"
    }
   ],
   "source": [
    "df_test.head()"
   ]
  },
  {
   "cell_type": "markdown",
   "metadata": {},
   "source": [
    "# LOAD THE MODEL"
   ]
  },
  {
   "cell_type": "code",
   "execution_count": 68,
   "metadata": {},
   "outputs": [],
   "source": [
    "fitted_model=pickle.load(open(\"HousingProject_rf.pkl\", \"rb\"))"
   ]
  },
  {
   "cell_type": "code",
   "execution_count": 69,
   "metadata": {},
   "outputs": [
    {
     "data": {
      "text/plain": [
       "RandomForestRegressor(criterion='mae', max_features='sqrt', random_state=49)"
      ]
     },
     "execution_count": 69,
     "metadata": {},
     "output_type": "execute_result"
    }
   ],
   "source": [
    "fitted_model"
   ]
  },
  {
   "cell_type": "code",
   "execution_count": 70,
   "metadata": {},
   "outputs": [],
   "source": [
    "# Predction over test data\n",
    "\n",
    "Conclusion= fitted_model.predict(df_test)"
   ]
  },
  {
   "cell_type": "markdown",
   "metadata": {},
   "source": [
    "# CONCLUSION"
   ]
  },
  {
   "cell_type": "code",
   "execution_count": 71,
   "metadata": {},
   "outputs": [
    {
     "data": {
      "text/plain": [
       "array([377834.31, 271282.05, 292962.39, 174590.5 , 275997.58, 100949.86,\n",
       "       183348.43, 354582.02, 292599.98, 217015.87,  87989.06, 181041.82,\n",
       "       152386.33, 225957.63, 343118.89, 151533.71, 138313.29, 139592.  ,\n",
       "       216938.42, 273662.33, 176959.51, 172560.57, 187356.19, 110822.27,\n",
       "       127312.48, 149356.87, 235176.69, 181688.18, 194592.78, 135023.8 ,\n",
       "       164339.06, 269616.13, 267030.91, 197156.49, 126507.99, 201961.01,\n",
       "       287755.78, 136626.19, 182791.72, 165205.72, 120972.08, 364795.57,\n",
       "       249739.1 , 238132.43, 176785.21, 166815.57, 153983.5 , 116204.67,\n",
       "       271157.83, 384245.97, 173363.97, 234545.81, 114141.32, 117537.08,\n",
       "       341447.04, 153194.2 , 164375.06, 235714.05, 139459.  , 319448.53,\n",
       "       115235.52, 224656.08, 169468.47, 191656.8 , 272526.21, 120485.9 ,\n",
       "       210615.31, 241442.97, 159168.  , 173943.11, 326833.25, 209598.85,\n",
       "       196350.24, 187500.88, 173786.28, 290669.28, 364588.49, 229539.7 ,\n",
       "       319832.58, 172955.32, 232050.39, 165560.11, 172369.66, 188235.25,\n",
       "       212505.18, 258650.26, 130705.08, 359213.83, 172543.19, 235667.7 ,\n",
       "       307338.21, 150958.34, 156820.34, 141001.92, 232497.09, 209695.33,\n",
       "       290110.63, 193789.08, 363530.48, 148142.98, 280631.41, 109438.48,\n",
       "       148850.99, 186917.83, 233448.22, 171122.44, 290560.25, 170215.47,\n",
       "       249319.45, 221828.55, 277437.93, 193165.5 , 215810.32, 308314.88,\n",
       "       144850.24, 125798.29, 160395.78, 258088.1 , 198136.23, 120119.52,\n",
       "       113427.44, 232264.44, 276977.13, 169197.82, 169464.32, 239429.  ,\n",
       "       142188.97, 195281.57, 114654.07, 132044.05, 165814.92, 301271.06,\n",
       "       180808.85, 189664.02, 197104.07, 357723.39, 272740.62, 142893.9 ,\n",
       "       314313.95, 140310.23, 158209.66, 413479.65, 119467.14, 458879.3 ,\n",
       "       202093.57, 320989.61, 190679.06, 160687.38, 112977.93, 251986.48,\n",
       "       196752.49, 163507.29, 251961.48, 136938.21, 114509.46, 208380.07,\n",
       "       212932.92, 220381.76, 152698.07, 213429.45, 252056.31, 173707.32,\n",
       "       275671.81, 142556.75, 135900.87, 310550.31, 218837.22, 249798.45,\n",
       "       147049.91, 258745.47, 221662.87, 152466.13, 159998.5 , 333487.46,\n",
       "       161756.57, 423771.09, 144954.23, 127083.82, 178685.65, 209943.67,\n",
       "       254517.52, 193517.  , 322148.68, 211760.46, 415035.88, 411403.72,\n",
       "       239986.09, 121107.49, 193334.8 , 171091.21, 135871.31, 251473.59,\n",
       "       287095.05, 107020.32, 164083.02, 111514.75, 216448.7 , 270871.45,\n",
       "       141814.59, 223727.62, 197361.36, 110949.5 , 339762.64, 338655.15,\n",
       "       147628.55, 139448.08, 298958.47, 181228.79, 176884.05, 204080.58,\n",
       "       120060.1 , 183560.04, 162136.1 , 207970.3 , 115933.09, 201989.99,\n",
       "       192287.85, 153390.87, 164121.86, 196255.24, 279875.37, 289601.05,\n",
       "       329387.58, 184380.8 , 241253.29, 371287.16, 251389.41, 126537.61,\n",
       "       397497.04, 218249.76, 138638.32, 190556.44, 108023.45, 159680.69,\n",
       "       125401.31, 236313.07, 215216.37, 210237.33, 262460.69, 231023.57,\n",
       "       280036.7 , 166040.42, 296607.81, 115183.62, 184596.78, 287470.24,\n",
       "       229070.06, 350702.48, 156116.35, 169416.07, 198065.21, 281170.97,\n",
       "       157553.7 , 134308.33, 132538.97, 261090.29, 146365.09, 418903.83,\n",
       "       207443.83, 134562.66, 233101.97, 217100.59, 109234.6 , 157873.82,\n",
       "       260253.72, 210500.74, 127877.4 , 199645.82, 288576.87, 292317.28,\n",
       "       176679.74, 158971.  , 408172.35, 250141.4 , 340287.77, 269512.5 ,\n",
       "       203946.94, 195029.91, 228448.77, 468924.44, 157891.91, 397311.77,\n",
       "       174005.98, 363409.51, 192202.96, 146815.13, 206332.74, 301867.83,\n",
       "       192480.3 , 179347.74, 187155.04, 114065.34])"
      ]
     },
     "execution_count": 71,
     "metadata": {},
     "output_type": "execute_result"
    }
   ],
   "source": [
    "Conclusion"
   ]
  },
  {
   "cell_type": "code",
   "execution_count": null,
   "metadata": {},
   "outputs": [],
   "source": []
  }
 ],
 "metadata": {
  "kernelspec": {
   "display_name": "Python 3",
   "language": "python",
   "name": "python3"
  },
  "language_info": {
   "codemirror_mode": {
    "name": "ipython",
    "version": 3
   },
   "file_extension": ".py",
   "mimetype": "text/x-python",
   "name": "python",
   "nbconvert_exporter": "python",
   "pygments_lexer": "ipython3",
   "version": "3.8.3"
  }
 },
 "nbformat": 4,
 "nbformat_minor": 4
}
